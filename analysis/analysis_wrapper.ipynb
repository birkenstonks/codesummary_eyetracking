{
 "cells": [
  {
   "cell_type": "code",
   "execution_count": 1,
   "metadata": {},
   "outputs": [],
   "source": [
    "import os\n",
    "import re\n",
    "import pickle\n",
    "import numpy as np\n",
    "import pandas as pd\n",
    "from statistics import median, mean\n",
    "from ast import literal_eval\n",
    "from collections import Counter\n",
    "import my_stats\n"
   ]
  },
  {
   "cell_type": "code",
   "execution_count": 10,
   "metadata": {},
   "outputs": [
    {
     "name": "stdout",
     "output_type": "stream",
     "text": [
      "661\n"
     ]
    }
   ],
   "source": [
    "wfilepath = \"abstract_fixation_counts/writing\"\n",
    "\n",
    "wfiles = os.listdir(wfilepath)\n",
    "n = 0\n",
    "for file in wfiles:\n",
    "    df = pd.read_csv(f\"{wfilepath}/{file}\")\n",
    "    n += df.shape[0]\n",
    "    \n",
    "print(n)"
   ]
  },
  {
   "cell_type": "code",
   "execution_count": 4,
   "metadata": {},
   "outputs": [],
   "source": [
    "with open(\"midprocessing/participant_scanpaths.pkl\", \"rb\") as f:\n",
    "    scanpaths = pickle.load(f)"
   ]
  },
  {
   "cell_type": "code",
   "execution_count": 18,
   "metadata": {},
   "outputs": [
    {
     "name": "stdout",
     "output_type": "stream",
     "text": [
      "['public.0', 'proj.1', 'setGenJarDir.0', 'getAntProject.0', 'setGenJarDir.0', 'getAntProject.0', 'setGenJarDir.0', 'getAntProject.0', 'setGenJarDir.0', 'SandProject.0', 'genJarDir.0', 'getAntProject.0', 'SandProject.1', 'getAntProject.0', 'downstream.0', 'getAntProject.0', 'downstream.0', 'getAntProject.0', 'downstream.0', 'getAntProject.0', 'downstream.0', 'getAntProject.0', 'downstream.0', 'setProperty.0', 'proj.2', '\"genJarDir\".0', 'genJarDir.0', '\"genJarDir\".0', 'SandProject.0', '\"genJarDir\".0', 'SandProject.0', '\"genJarDir\".0', '].0', 'downstream.2', 'i.2', 'genJarDir.2', 'downstream.1', 'genJarDir.2', 'downstream.1', 'genJarDir.2', 'downstream.1', 'genJarDir.2', 'downstream.1', 'genJarDir.2', 'length.0', 'getAntProject.0', 'setGenJarDir.0', 'getAntProject.0', 'setGenJarDir.0', 'getAntProject.0', 'setGenJarDir.0', 'getAntProject.0', 'setGenJarDir.0', 'getAntProject.0', 'setGenJarDir.0', 'getAntProject.0', 'setGenJarDir.0', 'getAntProject.0', 'SandProject.1', 'getAntProject.0', 'SandProject.1', 'getAntProject.0', 'SandProject.1', 'getAntProject.0', 'setGenJarDir.0', 'getAntProject.0', 'setGenJarDir.0', 'getAntProject.0', 'setGenJarDir.0', 'getAntProject.0', 'SandProject.1', 'getAntProject.0', 'SandProject.1', 'getAntProject.0', 'downstream.0', 'getAntProject.0', 'SandProject.1', 'getAntProject.0', 'SandProject.1', 'SandProject.0', 'genJarDir.0', 'getAntProject.0', 'SandProject.1', 'getAntProject.0', 'SandProject.1', 'getAntProject.0', 'SandProject.1', 'getAntProject.0', 'downstream.0', 'getAntProject.0', 'downstream.1', 'downstream.0', 'downstream.1', 'downstream.0', 'getRequiredBy.0', '\"genJarDir\".0', 'getRequiredBy.0', 'genJarDir.0', '\"genJarDir\".0', 'genJarDir.1', 'proj.0', 'genJarDir.1', 'proj.0', 'genJarDir.1', 'proj.0', 'genJarDir.1', 'toString.0', 'SandProject.0', '\"genJarDir\".0', 'genJarDir.1', 'proj.0', '].0', 'downstream.1', 'genJarDir.2', 'downstream.1', 'length.0', 'downstream.1', 'length.0', 'downstream.2', 'length.0', 'downstream.2', 'length.0', 'i.3', 'length.0', 'downstream.2', '].0', 'i.3', 'genJarDir.2', 'downstream.2', 'downstream.1', 'genJarDir.1', 'proj.2', 'downstream.0', 'proj.2', 'setProperty.0', 'length.0', 'getRequiredBy.0', 'length.0', 'getRequiredBy.0', 'genJarDir.2', 'downstream.1', 'i.0', 'proj.2', 'downstream.1', 'getRequiredBy.0', 'length.0', 'getRequiredBy.0', 'genJarDir.2', 'length.0', 'downstream.2', 'length.0', 'downstream.2', 'length.0', 'downstream.2', 'i.3', 'length.0', 'downstream.2', 'length.0', 'downstream.2', 'getAntProject.0', 'void.0', 'getAntProject.0', 'void.0', 'getAntProject.0', 'void.0', 'setGenJarDir.0', 'File.0', 'setProperty.0', '\"genJarDir\".0', 'genJarDir.0', 'genJarDir.1', 'proj.0', 'genJarDir.1', 'setProperty.0', 'File.0', 'setProperty.0', 'getRequiredBy.0', 'setProperty.0', '<.0', 'getRequiredBy.0', 'proj.2', '=.0', 'getRequiredBy.0', 'File.0', 'setProperty.0', 'File.0', 'setProperty.0', 'setGenJarDir.0', 'getAntProject.0', 'setGenJarDir.0', 'getAntProject.0', 'setGenJarDir.0', 'getAntProject.0', 'setGenJarDir.0', 'downstream.0', 'getAntProject.0', 'downstream.0', 'getAntProject.0', 'downstream.0', 'getAntProject.0', 'downstream.0', 'getAntProject.0', 'downstream.0', 'setGenJarDir.0', 'downstream.0', '\"genJarDir\".0', 'genJarDir.0', '\"genJarDir\".0', 'setProperty.0', 'proj.2', 'setProperty.0', 'File.0', 'setProperty.0', 'proj.2', 'genJarDir.0', 'setProperty.0', 'genJarDir.0', '\"genJarDir\".0', 'SandProject.0', 'setProperty.0', 'genJarDir.0', 'File.0', 'setProperty.0', 'File.0', 'setProperty.0', 'File.0', 'setProperty.0', '\"genJarDir\".0', 'SandProject.0', 'genJarDir.1', 'toString.0', 'genJarDir.1', 'getRequiredBy.0', '\"genJarDir\".0', 'getRequiredBy.0', '\"genJarDir\".0', 'getRequiredBy.0', '\"genJarDir\".0', 'getRequiredBy.0', 'genJarDir.1', 'getRequiredBy.0', '\"genJarDir\".0', 'SandProject.0', 'getRequiredBy.0', 'proj.2', 'setProperty.0', 'getRequiredBy.0', '\"genJarDir\".0', 'getRequiredBy.0', '\"genJarDir\".0', 'genJarDir.1', 'toString.0', '\"genJarDir\".0', 'SandProject.0', '\"genJarDir\".0', 'SandProject.0', '\"genJarDir\".0', 'genJarDir.1', 'i.0', 'downstream.1', 'downstream.0', 'downstream.1', 'downstream.0', 'setProperty.0', 'length.0', 'proj.2', 'setProperty.0', 'proj.2', 'downstream.1', 'genJarDir.2', 'downstream.1', 'genJarDir.2', 'downstream.1', 'genJarDir.2', 'downstream.2', 'SandProject.1', 'i.1', 'downstream.1', 'genJarDir.2', 'downstream.1', 'genJarDir.2', 'downstream.1', 'proj.2', 'i.2', 'downstream.2', 'getRequiredBy.0', 'setGenJarDir.1', 'genJarDir.2', 'downstream.2', 'length.0', 'downstream.2', 'getRequiredBy.0', 'downstream.2', 'length.0', 'downstream.1', 'genJarDir.2', 'getAntProject.0', 'SandProject.1', 'public.0', 'setGenJarDir.0', 'proj.1', 'setGenJarDir.0', 'getAntProject.0', 'setGenJarDir.0', 'getAntProject.0', 'setProperty.0', 'File.0', 'setProperty.0', 'setGenJarDir.0', 'getAntProject.0', 'genJarDir.0', 'genJarDir.1', 'SandProject.0', 'downstream.0', 'proj.0', 'setProperty.0', 'downstream.0', 'setProperty.0', 'downstream.0', 'proj.2', 'setProperty.0', '\"genJarDir\".0', 'genJarDir.0', '\"genJarDir\".0', 'proj.2', '<.0', 'proj.2', 'getRequiredBy.0', 'genJarDir.2', 'downstream.1', 'downstream.2', 'length.0', 'downstream.2', 'length.0', 'downstream.2', 'setGenJarDir.0', 'SandProject.1', 'getAntProject.0', 'SandProject.1', 'getAntProject.0', 'SandProject.1', 'getAntProject.0', 'SandProject.1', 'getAntProject.0', 'setGenJarDir.0', 'downstream.0', 'getAntProject.0', 'setProperty.0', 'File.0', 'downstream.0', 'getAntProject.0', 'downstream.0', 'getAntProject.0', 'downstream.0', 'getAntProject.0', 'SandProject.1', 'getAntProject.0', 'SandProject.1', 'getAntProject.0', 'setProperty.0', 'downstream.0', 'setProperty.0', 'getRequiredBy.0', '\"genJarDir\".0', 'getRequiredBy.0', '\"genJarDir\".0', 'getRequiredBy.0', '\"genJarDir\".0', 'getRequiredBy.0', '\"genJarDir\".0', 'getRequiredBy.0', '\"genJarDir\".0', 'getRequiredBy.0', '\"genJarDir\".0', 'getRequiredBy.0', '\"genJarDir\".0', 'getRequiredBy.0', '\"genJarDir\".0', 'getRequiredBy.0', '\"genJarDir\".0', 'getRequiredBy.0', 'SandProject.1', 'i.1', '\"genJarDir\".0', 'setProperty.0', 'proj.2', 'setProperty.0', 'proj.2', 'setProperty.0', 'proj.2', 'setProperty.0', 'proj.2', 'setProperty.0', 'getRequiredBy.0', 'genJarDir.0', 'getRequiredBy.0', 'genJarDir.0', 'getRequiredBy.0', 'setProperty.0', 'proj.2', 'setProperty.0', 'proj.2', 'setProperty.0', 'proj.2', 'setProperty.0', 'proj.2', 'setProperty.0', '\"genJarDir\".0', 'getRequiredBy.0', '\"genJarDir\".0', 'getRequiredBy.0', 'genJarDir.1', 'toString.0', '\"genJarDir\".0', 'setProperty.0', 'genJarDir.0', 'setProperty.0', 'File.0', 'setProperty.0', 'SandProject.0', '\"genJarDir\".0', 'SandProject.0', '\"genJarDir\".0', 'SandProject.0', '\"genJarDir\".0', 'SandProject.0', '\"genJarDir\".0', 'SandProject.0', 'toString.0', 'SandProject.1', 'getAntProject.0', 'getRequiredBy.0', 'getAntProject.0', 'downstream.0', 'getAntProject.0', 'downstream.0', 'SandProject.1', 'downstream.0', 'setProperty.0', '=.0', 'setProperty.0', '=.0', 'setProperty.0', 'downstream.0', 'getRequiredBy.0', '\"genJarDir\".0', 'getRequiredBy.0', '\"genJarDir\".0', 'getRequiredBy.0', '\"genJarDir\".0', 'getRequiredBy.0', 'genJarDir.1', 'genJarDir.0', 'getRequiredBy.0', 'genJarDir.1', 'getRequiredBy.0', '\"genJarDir\".0', 'genJarDir.1', 'proj.0', 'genJarDir.1', 'proj.0', 'genJarDir.1', 'proj.0', 'genJarDir.1', 'proj.0', 'genJarDir.1', 'proj.0', 'genJarDir.1', 'proj.0', 'genJarDir.1', 'proj.0', 'genJarDir.1', 'proj.0', 'genJarDir.1', 'toString.0', 'i.1', 'downstream.0', 'downstream.1', 'proj.2', 'length.0', 'proj.2', 'getRequiredBy.0', '\"genJarDir\".0', 'getRequiredBy.0', '\"genJarDir\".0', 'getRequiredBy.0', 'downstream.1', 'genJarDir.2', 'length.0', '].0', 'length.0', 'downstream.2', 'i.2', 'downstream.2', '<.0', 'getRequiredBy.0', 'length.0', 'downstream.2', 'proj.2', 'setProperty.0', 'getRequiredBy.0', '\"genJarDir\".0', 'getRequiredBy.0', 'proj.2', 'setProperty.0', 'proj.2', 'setProperty.0', 'getRequiredBy.0', '\"genJarDir\".0', 'getRequiredBy.0', '\"genJarDir\".0', 'SandProject.0', 'getRequiredBy.0', 'SandProject.0', '\"genJarDir\".0', 'getRequiredBy.0', '\"genJarDir\".0', 'getRequiredBy.0', '\"genJarDir\".0', 'proj.2', 'length.0', 'downstream.2', 'downstream.1', 'length.0', 'getRequiredBy.0', 'proj.2', 'downstream.1', 'setProperty.0', 'downstream.0', 'proj.0', 'getAntProject.0', 'downstream.0', 'getAntProject.0', 'downstream.0', 'setProperty.0', 'proj.2', 'setProperty.0', '=.0', 'setProperty.0', 'getRequiredBy.0', 'proj.2', '\"genJarDir\".0', 'getRequiredBy.0', '\"genJarDir\".0', 'getRequiredBy.0', 'downstream.0', 'getAntProject.0', 'downstream.0', 'getRequiredBy.0', 'downstream.1', 'genJarDir.2', 'downstream.1', 'genJarDir.2', '<.0', 'genJarDir.2', 'genJarDir.1', 'proj.0', 'getRequiredBy.0', '\"genJarDir\".0', 'getRequiredBy.0', '\"genJarDir\".0', 'setProperty.0', '=.0', 'setProperty.0', 'proj.2', 'setProperty.0', 'downstream.0', 'setProperty.0', 'downstream.0', 'downstream.1', 'downstream.0', 'downstream.1', 'downstream.0', 'SandProject.1', '\"genJarDir\".0', 'getRequiredBy.0', '\"genJarDir\".0', 'proj.0', 'genJarDir.1', 'toString.0', 'setProperty.0', 'proj.2', 'genJarDir.0', '\"genJarDir\".0', 'getAntProject.0', 'SandProject.1', 'getAntProject.0', 'setGenJarDir.0', 'getAntProject.0', 'File.0', 'proj.0', 'genJarDir.1', 'genJarDir.0', 'setProperty.0', 'genJarDir.0', 'File.0', 'setProperty.0', 'File.0', 'setProperty.0', 'File.0', 'downstream.0', 'SandProject.1', 'getAntProject.0', 'setProperty.0', 'SandProject.0', '\"genJarDir\".0', 'getRequiredBy.0', '\"genJarDir\".0', 'getRequiredBy.0', 'genJarDir.1', '\"genJarDir\".0', 'genJarDir.0', 'setProperty.0', '\"genJarDir\".0', 'SandProject.0', '\"genJarDir\".0', 'SandProject.0', 'genJarDir.0', 'setProperty.0', 'proj.2', 'setProperty.0', 'genJarDir.0', 'getRequiredBy.0', 'proj.2', 'setProperty.0', 'proj.2', 'setProperty.0', 'proj.2', 'setProperty.0', 'proj.2', 'setProperty.0', '=.0', 'setProperty.0', '=.0', 'setProperty.0', '=.0', 'setProperty.0', 'proj.2', 'setProperty.0', 'proj.2', 'setProperty.0', 'proj.2', 'setProperty.0', 'proj.2', 'setProperty.0', 'getRequiredBy.0', '\"genJarDir\".0', 'getRequiredBy.0', 'downstream.0', 'getAntProject.0', 'downstream.0', 'getAntProject.0', 'downstream.0', 'getAntProject.0', 'setProperty.0', '=.0', 'setProperty.0', 'proj.2', 'setProperty.0', '=.0', 'setProperty.0', 'getRequiredBy.0', '=.0', 'setProperty.0', 'getRequiredBy.0', 'genJarDir.2', '].0', 'i.3', 'i.0', 'i.1', 'getRequiredBy.0', '\"genJarDir\".0', 'getRequiredBy.0', 'proj.2', 'setProperty.0', 'proj.2', 'setProperty.0', '\"genJarDir\".0', 'getRequiredBy.0', 'genJarDir.1', 'toString.0', 'getRequiredBy.0', '\"genJarDir\".0', 'getRequiredBy.0', 'genJarDir.1', '=.0', 'genJarDir.0', 'setProperty.0', 'getRequiredBy.0', 'toString.0', 'genJarDir.1', 'toString.0', 'proj.0', 'genJarDir.1', 'proj.0', 'genJarDir.1', 'proj.0', 'genJarDir.1', 'File.0', 'proj.0', 'genJarDir.1', 'proj.0', 'File.0', 'setProperty.0', 'File.0', 'setProperty.0', 'File.0', 'setProperty.0', 'File.0', 'proj.0', 'genJarDir.0', 'getAntProject.0', 'setGenJarDir.0', 'getAntProject.0', 'setGenJarDir.0', 'getAntProject.0', 'setGenJarDir.0', 'getAntProject.0', 'setGenJarDir.0', 'getAntProject.0', 'SandProject.1', 'getAntProject.0', 'SandProject.0', 'setProperty.0', 'File.0', 'setProperty.0', 'SandProject.0', 'setProperty.0', 'SandProject.0', 'File.0', 'genJarDir.1', 'proj.0', 'setProperty.0', 'genJarDir.1', 'SandProject.0', '\"genJarDir\".0', 'SandProject.0', '\"genJarDir\".0', 'genJarDir.1', 'getRequiredBy.0', 'getAntProject.0', 'setProperty.0', 'downstream.0', 'setProperty.0', 'SandProject.1', 'getAntProject.0', 'File.0', 'setProperty.0', 'File.0', 'setProperty.0', '\"genJarDir\".0', 'setProperty.0', 'File.0', 'setProperty.0', 'downstream.0', 'getAntProject.0', 'downstream.0', 'downstream.1', 'setProperty.0', 'downstream.1', 'getRequiredBy.0', 'genJarDir.1', 'downstream.1', 'genJarDir.2', 'downstream.1', 'genJarDir.2', 'downstream.1', 'genJarDir.2', 'length.0', '].0', 'genJarDir.2', 'downstream.1', 'genJarDir.2', 'downstream.1', 'genJarDir.2', 'downstream.1', 'genJarDir.2', 'downstream.1', 'genJarDir.2', 'downstream.2', 'downstream.1', 'downstream.2', 'getRequiredBy.0', '\"genJarDir\".0', 'getRequiredBy.0', 'downstream.2', 'length.0', 'downstream.2', 'getAntProject.0', 'setGenJarDir.0', 'SandProject.1', 'length.0', 'getRequiredBy.0', 'setGenJarDir.0', 'void.0', 'proj.1', 'void.0', 'proj.1', 'File.0', 'setGenJarDir.0', 'genJarDir.0', 'SandProject.0', 'proj.0', 'getAntProject.0', 'void.0', 'SandProject.1', 'getAntProject.0', 'downstream.0', 'genJarDir.0', 'setProperty.0', 'genJarDir.0', 'i.1', 'downstream.0', 'setProperty.0', 'downstream.0', 'getAntProject.0', 'downstream.0', 'i.1', 'downstream.0', '\"genJarDir\".0', 'genJarDir.1', 'downstream.0', 'setProperty.0', 'downstream.0', 'downstream.1', 'proj.2', 'getRequiredBy.0', 'genJarDir.1', 'proj.2', 'setProperty.0', 'proj.2', 'downstream.1', 'getRequiredBy.0', '\"genJarDir\".0', 'genJarDir.0', 'genJarDir.2', 'downstream.1', 'genJarDir.2', 'downstream.1', '<.0', 'downstream.1', 'proj.2', 'length.0', 'i.2', 'downstream.1', 'genJarDir.2', 'downstream.1', 'genJarDir.2', 'length.0', 'genJarDir.1', 'genJarDir.2', 'downstream.1', 'genJarDir.2', 'SandProject.1', 'getAntProject.0', 'SandProject.1', 'getAntProject.0', 'setGenJarDir.0', 'getAntProject.0', 'setGenJarDir.0', 'getAntProject.0', 'length.0', 'proj.2', 'length.0', 'proj.2', 'setProperty.0', 'proj.2', 'setProperty.0', 'proj.2', 'genJarDir.0', '\"genJarDir\".0', 'getRequiredBy.0', '\"genJarDir\".0', 'getRequiredBy.0', 'proj.2', 'setProperty.0', 'proj.2', 'setProperty.0', 'proj.2', 'setProperty.0', 'proj.2', 'setProperty.0', 'proj.2', 'downstream.0', 'setProperty.0', 'genJarDir.0', 'setProperty.0', 'genJarDir.0', 'setProperty.0', 'File.0', 'setProperty.0', 'File.0', '\"genJarDir\".0', 'SandProject.0', '\"genJarDir\".0', 'SandProject.0', 'setProperty.0', 'genJarDir.0', '\"genJarDir\".0', 'getRequiredBy.0', '\"genJarDir\".0', 'getRequiredBy.0', '\"genJarDir\".0', 'getRequiredBy.0', '\"genJarDir\".0', 'getRequiredBy.0', '\"genJarDir\".0', 'i.2', 'getRequiredBy.0', 'genJarDir.1', 'toString.0', 'genJarDir.1', 'genJarDir.0', 'setProperty.0', '=.0', 'genJarDir.0', 'genJarDir.1', 'toString.0', 'genJarDir.1', 'SandProject.0', 'downstream.1', 'getRequiredBy.0', 'setProperty.0', 'getRequiredBy.0', '\"genJarDir\".0', 'getRequiredBy.0', '\"genJarDir\".0', 'getRequiredBy.0', 'SandProject.0', 'getRequiredBy.0', '\"genJarDir\".0', 'getRequiredBy.0', '\"genJarDir\".0', 'getRequiredBy.0', '\"genJarDir\".0', 'getRequiredBy.0', '\"genJarDir\".0', 'proj.2', 'setProperty.0', 'proj.2', 'setProperty.0', 'i.1', '<.0', 'downstream.1', 'getRequiredBy.0', '\"genJarDir\".0', 'length.0', 'downstream.2', 'length.0', 'downstream.2', 'length.0', 'setProperty.0', 'proj.2', 'setProperty.0', 'proj.2', 'setProperty.0', 'proj.2', 'setProperty.0', 'proj.2', 'setProperty.0', 'downstream.0', 'getRequiredBy.0', 'i.0', 'genJarDir.2', 'downstream.1', 'genJarDir.2', 'downstream.1', 'genJarDir.2', 'downstream.1', 'genJarDir.2', 'length.0', 'downstream.2', 'length.0', 'downstream.2', 'getRequiredBy.0', 'length.0', 'getRequiredBy.0', 'length.0', 'proj.2', 'getRequiredBy.0', 'length.0', 'getRequiredBy.0', 'length.0', 'genJarDir.2', 'setProperty.0', 'genJarDir.0', 'setProperty.0', 'genJarDir.0', 'setProperty.0', 'SandProject.0', '<.0', 'genJarDir.2', 'i.1', 'SandProject.1', 'setProperty.0', 'proj.2', 'setProperty.0', 'proj.2', 'setProperty.0', 'proj.2', 'setProperty.0', 'SandProject.0', '\"genJarDir\".0', 'genJarDir.1', '\"genJarDir\".0', 'getRequiredBy.0', 'genJarDir.0', 'setProperty.0', 'genJarDir.0', 'setProperty.0', 'genJarDir.0', 'setProperty.0', 'genJarDir.0', 'setProperty.0', 'genJarDir.0', 'setGenJarDir.0', 'downstream.0', 'downstream.2', 'genJarDir.2', 'SandProject.0', '\"genJarDir\".0', 'SandProject.0', 'downstream.2', 'genJarDir.2', 'proj.2', 'genJarDir.0', 'setProperty.0', 'proj.2', 'setProperty.0', 'proj.2', 'setProperty.0', 'SandProject.0', 'genJarDir.1', 'downstream.1', 'genJarDir.2', 'downstream.2', 'length.0', 'downstream.2', 'length.0', 'downstream.2', 'length.0', 'downstream.2', 'length.0', 'i.2', 'downstream.2', 'i.2', 'genJarDir.2', 'downstream.2', 'length.0', 'downstream.2', '].0', 'downstream.2', 'i.3', 'downstream.1', '<.0', 'SandProject.0', 'setProperty.0', 'proj.2', 'downstream.1', 'genJarDir.1', 'getRequiredBy.0', 'i.1', 'downstream.1', 'length.0', 'downstream.1', 'i.3', 'toString.0', 'genJarDir.1', 'proj.0', 'genJarDir.1', 'getRequiredBy.0', 'genJarDir.1', 'length.0', 'getRequiredBy.0', 'setProperty.0', 'SandProject.1', 'genJarDir.1', 'downstream.0']\n"
     ]
    }
   ],
   "source": [
    "print(scanpaths['317']['setGenJarDir'])"
   ]
  },
  {
   "cell_type": "code",
   "execution_count": 21,
   "metadata": {},
   "outputs": [
    {
     "name": "stdout",
     "output_type": "stream",
     "text": [
      "56.06291591046582\n"
     ]
    }
   ],
   "source": [
    "len_list = []\n",
    "# count = 0\n",
    "for pid, functions in scanpaths.items():\n",
    "    for func, path in scanpaths[pid].items():\n",
    "        path_len = len(scanpaths[pid][func])\n",
    "        len_list.append(path_len)\n",
    "        # count += 1\n",
    "print(mean(len_list))"
   ]
  },
  {
   "cell_type": "code",
   "execution_count": 5,
   "metadata": {},
   "outputs": [
    {
     "name": "stdout",
     "output_type": "stream",
     "text": [
      "['136_gaze_reading_configBalanceRanking.csv', '136_gaze_reading_capitalizeString.csv', '136_gaze_reading_openNewContainerWindow.csv', '136_gaze_writing_go.csv', '136_gaze_writing_clearFieldersFromField.csv', '136_gaze_writing_getJSplitPane.csv', '136_gaze_reading_connectionErrorOccurred.csv', '136_gaze_reading_tellAgain.csv', '136_gaze_reading_init.csv', '136_gaze_reading_refreshTreePanel.csv', '136_gaze_reading_createServerChooser.csv', '136_gaze_reading_getAll.csv', '136_gaze_writing_addPKColumn.csv', '136_gaze_reading_wndPreferences.csv', '136_gaze_writing_getUserNameFromCookie.csv', '136_gaze_reading_createNewServerProcess.csv', '136_gaze_reading_asMap.csv', '136_gaze_reading_getStatusFlagFields.csv', '136_gaze_writing_deleteCascade.csv', '136_gaze_writing_testValidateSeparationCount.csv', '136_gaze_reading_setCombo_Value.csv', '136_gaze_reading_removeSelection.csv', '136_gaze_reading_getInstitutions.csv', '136_gaze_reading_print.csv', '136_gaze_writing_updateGain.csv', '136_gaze_reading_moveUpTarget.csv', '136_gaze_reading_setTopAttributes.csv', '136_gaze_writing_BFSdist.csv', '136_gaze_reading_testGetCodigo.csv', '136_gaze_writing_swapItems.csv', '136_gaze_writing_equals.csv', '136_gaze_writing_print.csv', '136_gaze_reading_fetchString.csv', '136_gaze_writing_setPhoto.csv', '136_gaze_writing_appendDeclarations.csv', '136_gaze_reading_close.csv', '136_gaze_writing_actionPerformed.csv', '136_gaze_reading_testLogin.csv', '136_gaze_reading_getCollaborateCollection.csv', '136_gaze_reading_getFastestGenerator.csv', '136_gaze_writing_goToRegistration.csv', '136_gaze_writing_setGenJarDir.csv', '136_gaze_writing_getBackCommand2.csv', '136_gaze_reading_addLimit.csv', '136_gaze_reading_actionLoadNotes.csv', '136_gaze_reading_getBackCommand12.csv', '136_gaze_writing_invalidateSession.csv', '136_gaze_writing_testSetExample.csv', '136_gaze_reading_testGetClassification.csv', '136_gaze_reading_modifyRoleInCache.csv', '136_gaze_reading_readResponse.csv', '136_gaze_writing_updateSchema.csv', '136_gaze_writing_testNegativeParseCases.csv', '136_gaze_reading_openCursor.csv', '136_gaze_reading_testAddCountryWithSequenceGenerator.csv', '136_gaze_writing_add.csv', '136_gaze_writing_messageSent.csv', '136_gaze_reading_setNamedItem.csv', '136_gaze_reading_getMessage.csv', '136_gaze_writing_getImageWithSource.csv']\n"
     ]
    }
   ],
   "source": [
    "pathname = \"../../code_summ_data\"\n",
    "test = os.listdir(pathname)\n",
    "\n",
    "for folder in test:\n",
    "    path = f\"{pathname}/{folder}/annotated_gaze/\"\n",
    "    new_test = os.listdir(path)\n",
    "    print(new_test)\n",
    "    break\n"
   ]
  },
  {
   "cell_type": "code",
   "execution_count": 3,
   "metadata": {},
   "outputs": [],
   "source": [
    "# read in files\n",
    "# try to find common files among all participants\n",
    "dirname = \"/home/zachkaras/annotated_pickle\"\n",
    "data = os.listdir(dirname)\n",
    "common = {}\n",
    "for file in data:\n",
    "    filename = os.path.join(dirname, file)\n",
    "    with open(filename, \"rb\") as juice:\n",
    "        brine = pickle.load(juice)\n",
    "    for key, values in brine.items():\n",
    "        #print(key)\n",
    "        name = key.split(\"_\")[-1]\n",
    "        if name in common:\n",
    "            common[name] += 1\n",
    "        else:\n",
    "            common[name] = 0\n",
    "            # df = pd.DataFrame.from_dict(values)\n",
    "            # print(df.shape)\n"
   ]
  },
  {
   "cell_type": "code",
   "execution_count": 4,
   "metadata": {},
   "outputs": [
    {
     "name": "stdout",
     "output_type": "stream",
     "text": [
      "clearFieldersFromField 25\n",
      "getStatusFlagFields 21\n",
      "messageSent 25\n",
      "show 24\n",
      "setTopAttributes 24\n",
      "getMessage 23\n",
      "openCursor 23\n",
      "actionPerformed 26\n",
      "openNewContainerWindow 24\n",
      "print 29\n",
      "close 23\n",
      "modifyRoleInCache 23\n",
      "actionLoadNotes 25\n",
      "addDigit 21\n",
      "getUserNameFromCookie 22\n",
      "equals 25\n",
      "addPKColumn 25\n",
      "add 24\n",
      "testAddCountryWithSequenceGenerator 23\n",
      "getImageWithSource 24\n",
      "initOptionsMenu 20\n",
      "BFSdist 24\n",
      "updateSchema 24\n",
      "joinTableRender 24\n",
      "createServerChooser 24\n",
      "capitalizeString 22\n",
      "addLimit 24\n",
      "getInstitutions 24\n",
      "updateGain 23\n",
      "swapItems 24\n",
      "refreshTreePanel 23\n",
      "go 26\n",
      "getCollaborateCollection 25\n",
      "setGenJarDir 25\n",
      "testLogin 23\n",
      "Value 24\n",
      "testGetCodigo 23\n",
      "appendDeclarations 24\n",
      "testNegativeParseCases 24\n",
      "testGetClassification 24\n"
     ]
    }
   ],
   "source": [
    "for key, values in common.items():\n",
    "    #print(key, values)\n",
    "    if values >= 20:\n",
    "        print(key, values)\n"
   ]
  },
  {
   "cell_type": "code",
   "execution_count": 2,
   "metadata": {},
   "outputs": [
    {
     "name": "stdout",
     "output_type": "stream",
     "text": [
      "['136', '176', '155', '117', '166', '317', '168', '319', '186', '182', '310', '129', '111', '313', '315', '133', '143', '311', '314', '106', '318', '147', '191', '189', '316', '312', '139']\n"
     ]
    }
   ],
   "source": [
    "datapath = \"/home/zachkaras/code_summ_data\"\n",
    "participants = os.listdir(datapath)\n",
    "print(participants)\n"
   ]
  },
  {
   "cell_type": "code",
   "execution_count": 3,
   "metadata": {},
   "outputs": [
    {
     "name": "stdout",
     "output_type": "stream",
     "text": [
      "136\n",
      "176\n",
      "155\n",
      "117\n",
      "166\n",
      "317\n",
      "168\n",
      "319\n",
      "186\n",
      "182\n",
      "310\n",
      "129\n",
      "111\n",
      "313\n",
      "315\n",
      "133\n",
      "143\n",
      "311\n",
      "314\n",
      "106\n",
      "318\n",
      "147\n",
      "191\n",
      "189\n",
      "316\n",
      "312\n",
      "139\n"
     ]
    }
   ],
   "source": [
    "# iterate through participants\n",
    "diameters = {}\n",
    "by_function = {}\n",
    "for person in participants:\n",
    "    print(person)\n",
    "    diameters[person] = {}\n",
    "    diameter_sum = 0\n",
    "    row_sum = 0\n",
    "    gaze_files = os.listdir(f\"{datapath}/{person}/annotated_gaze\")\n",
    "    for file in gaze_files:\n",
    "        func = file.split('_')[-1]\n",
    "        func = re.sub(\".csv\", \"\", func)\n",
    "        df = pd.read_csv(f\"{datapath}/{person}/annotated_gaze/{file}\")\n",
    "        curr_sum = df['pd_left'].sum() + df['pd_right'].sum()\n",
    "        curr_rows = len(df) * 2\n",
    "        diameter_sum += curr_sum\n",
    "        row_sum += curr_rows \n",
    "        if func in by_function:\n",
    "            by_function[func]['diameter'] += curr_sum\n",
    "            by_function[func]['rows'] += curr_rows \n",
    "        else:\n",
    "            by_function[func] = {'diameter' : curr_sum, 'rows' : curr_rows} \n",
    "        diameters[person][func] = curr_sum/curr_rows\n",
    "    diameters[person]['average'] = diameter_sum/row_sum\n",
    "    #diameters[person]['average'] = diameter_sum/rows\n",
    "#print(diameters)"
   ]
  },
  {
   "cell_type": "code",
   "execution_count": 4,
   "metadata": {},
   "outputs": [
    {
     "name": "stdout",
     "output_type": "stream",
     "text": [
      "{'configBalanceRanking': {'diameter': 98886.12744140625, 'rows': 37134}, 'capitalizeString': {'diameter': 416579.87020874023, 'rows': 138618}, 'openNewContainerWindow': {'diameter': 429246.7685394287, 'rows': 141750}, 'go': {'diameter': 1042211.9977111816, 'rows': 335736}, 'clearFieldersFromField': {'diameter': 502764.96534729004, 'rows': 164620}, 'getJSplitPane': {'diameter': 39548.713317871094, 'rows': 15684}, 'connectionErrorOccurred': {'diameter': 93174.19372558594, 'rows': 33912}, 'tellAgain': {'diameter': 243701.0246734619, 'rows': 84200}, 'init': {'diameter': 297406.29441833496, 'rows': 102906}, 'refreshTreePanel': {'diameter': 308587.620803833, 'rows': 100970}, 'createServerChooser': {'diameter': 426786.3430786133, 'rows': 145772}, 'getAll': {'diameter': 226895.88430786133, 'rows': 78934}, 'addPKColumn': {'diameter': 898359.200302124, 'rows': 288628}, 'wndPreferences': {'diameter': 152273.01043701172, 'rows': 51702}, 'getUserNameFromCookie': {'diameter': 607521.7582855225, 'rows': 197742}, 'createNewServerProcess': {'diameter': 195146.75106811523, 'rows': 62868}, 'asMap': {'diameter': 87406.76681518555, 'rows': 32532}, 'getStatusFlagFields': {'diameter': 420491.3276062012, 'rows': 141802}, 'deleteCascade': {'diameter': 133441.10261535645, 'rows': 52166}, 'testValidateSeparationCount': {'diameter': 68858.23512268066, 'rows': 24990}, 'Value': {'diameter': 357692.7116394043, 'rows': 121758}, 'removeSelection': {'diameter': 56620.33740234375, 'rows': 20546}, 'getInstitutions': {'diameter': 370095.5583496094, 'rows': 124256}, 'print': {'diameter': 617556.3361816406, 'rows': 205244}, 'updateGain': {'diameter': 837224.5210418701, 'rows': 282024}, 'moveUpTarget': {'diameter': 176050.44813537598, 'rows': 59906}, 'setTopAttributes': {'diameter': 424575.50297546387, 'rows': 145202}, 'BFSdist': {'diameter': 1130994.1363677979, 'rows': 370116}, 'testGetCodigo': {'diameter': 468273.74671936035, 'rows': 158952}, 'swapItems': {'diameter': 631305.6228027344, 'rows': 204692}, 'equals': {'diameter': 892373.0424804688, 'rows': 295504}, 'fetchString': {'diameter': 75706.1773223877, 'rows': 27764}, 'setPhoto': {'diameter': 832881.238571167, 'rows': 243222}, 'appendDeclarations': {'diameter': 1030197.1031646729, 'rows': 343526}, 'close': {'diameter': 422158.6411590576, 'rows': 139954}, 'actionPerformed': {'diameter': 1468669.8983306885, 'rows': 502078}, 'testLogin': {'diameter': 462920.2427825928, 'rows': 156870}, 'getCollaborateCollection': {'diameter': 502165.52380371094, 'rows': 167850}, 'getFastestGenerator': {'diameter': 197484.591506958, 'rows': 64404}, 'goToRegistration': {'diameter': 137990.18630981445, 'rows': 45154}, 'setGenJarDir': {'diameter': 1335379.1545410156, 'rows': 435348}, 'getBackCommand2': {'diameter': 139707.8701019287, 'rows': 45624}, 'addLimit': {'diameter': 495537.4333343506, 'rows': 166122}, 'actionLoadNotes': {'diameter': 576910.5442504883, 'rows': 196798}, 'getBackCommand12': {'diameter': 77181.25122070312, 'rows': 26650}, 'invalidateSession': {'diameter': 277098.52474975586, 'rows': 80200}, 'testSetExample': {'diameter': 68750.6767578125, 'rows': 23028}, 'testGetClassification': {'diameter': 372796.45751953125, 'rows': 124466}, 'modifyRoleInCache': {'diameter': 443987.8614501953, 'rows': 147700}, 'readResponse': {'diameter': 154042.09649658203, 'rows': 49310}, 'updateSchema': {'diameter': 569382.977935791, 'rows': 183406}, 'testNegativeParseCases': {'diameter': 724634.3722991943, 'rows': 235836}, 'openCursor': {'diameter': 358049.3444366455, 'rows': 117640}, 'testAddCountryWithSequenceGenerator': {'diameter': 434908.30865478516, 'rows': 149374}, 'add': {'diameter': 1215820.0322875977, 'rows': 379986}, 'messageSent': {'diameter': 1113394.7603759766, 'rows': 366762}, 'setNamedItem': {'diameter': 69743.5472869873, 'rows': 25054}, 'getMessage': {'diameter': 384637.6368255615, 'rows': 131754}, 'getImageWithSource': {'diameter': 622875.7228851318, 'rows': 199362}, 'testGetEmail': {'diameter': 141092.89054870605, 'rows': 46342}, 'searchRecipe': {'diameter': 559166.6831359863, 'rows': 189506}, 'joinTableRender': {'diameter': 462385.7271270752, 'rows': 154496}, 'init2': {'diameter': 171784.10917663574, 'rows': 54026}, 'getBackCommand22': {'diameter': 140767.34259033203, 'rows': 45104}, 'testOccThm': {'diameter': 119706.69795227051, 'rows': 39570}, 'getRemoteObject': {'diameter': 212834.25061035156, 'rows': 68194}, 'show': {'diameter': 398059.4035797119, 'rows': 135430}, 'setSecurityMode': {'diameter': 145965.24501037598, 'rows': 43476}, 'jbInit': {'diameter': 145016.603515625, 'rows': 47350}, 'getUnitCombo': {'diameter': 94322.87524414062, 'rows': 31182}, 'createGraphModel': {'diameter': 83031.90339660645, 'rows': 26922}, 'countQuery': {'diameter': 194335.7324066162, 'rows': 63010}, 'selectBracketingEntries': {'diameter': 387824.4076080322, 'rows': 116564}, 'populateNewList': {'diameter': 291654.9698486328, 'rows': 86274}, 'addErrors': {'diameter': 71519.1304321289, 'rows': 25470}, 'addDigit': {'diameter': 639015.3466796875, 'rows': 207322}, 'store': {'diameter': 213694.42420959473, 'rows': 73574}, 'initOptionsMenu': {'diameter': 282362.4794921875, 'rows': 91434}, 'testSetEvtID': {'diameter': 143813.7462463379, 'rows': 48718}, 'saveCRCReply': {'diameter': 174871.33824157715, 'rows': 56758}, 'setSelectedScript': {'diameter': 138584.93255615234, 'rows': 43712}, 'addRotation': {'diameter': 353115.8251647949, 'rows': 112538}, 'liesBetween': {'diameter': 270106.7422180176, 'rows': 89256}, 'removeService': {'diameter': 96680.02709960938, 'rows': 34868}, 'fScore': {'diameter': 88085.00469970703, 'rows': 29018}, 'saveToFile': {'diameter': 84666.55841064453, 'rows': 24916}, 'addUIDeployment': {'diameter': 157798.6677093506, 'rows': 54682}, 'addDbArgs': {'diameter': 140841.2272491455, 'rows': 50476}, 'checkSetLayout': {'diameter': 225992.1218109131, 'rows': 76980}, 'evaluate': {'diameter': 108422.64842224121, 'rows': 35972}, 'onAttach': {'diameter': 192415.65907287598, 'rows': 62838}, 'testSetWelcomeMsg': {'diameter': 206783.04220581055, 'rows': 66908}, 'testInvoke': {'diameter': 356942.98484802246, 'rows': 116972}, 'split': {'diameter': 108403.20079040527, 'rows': 37384}, 'doOutput': {'diameter': 120745.4977722168, 'rows': 40232}, 'genSql': {'diameter': 99999.09143066406, 'rows': 32016}, 'encode': {'diameter': 57902.193939208984, 'rows': 20732}, 'play': {'diameter': 112466.32775878906, 'rows': 34932}, 'removeRedundantOperations': {'diameter': 128503.26023864746, 'rows': 43784}, 'getBackCommand25': {'diameter': 150514.3099822998, 'rows': 47186}, 'setBinWidth': {'diameter': 33519.0412902832, 'rows': 10356}, 'testOneTwoThreeCreateCycle': {'diameter': 395725.2892303467, 'rows': 131362}, 'getEffect': {'diameter': 234287.5525817871, 'rows': 74042}, 'getRodinDBStatus': {'diameter': 203263.45065307617, 'rows': 58326}, 'getAllSourceRoots': {'diameter': 196919.14770507812, 'rows': 60292}, 'atomToExpression': {'diameter': 103953.49830627441, 'rows': 35664}, 'createChecklistItem': {'diameter': 141182.2012939453, 'rows': 47062}, 'exit': {'diameter': 60708.004653930664, 'rows': 19856}, 'indexToLetter': {'diameter': 81151.28552246094, 'rows': 24574}, 'iconify': {'diameter': 94283.3212890625, 'rows': 33570}, 'testCookieGreaterThan': {'diameter': 97221.57902526855, 'rows': 33530}, 'handleHalt': {'diameter': 51832.833435058594, 'rows': 17144}, 'getConnectionPanel': {'diameter': 87692.64810180664, 'rows': 28522}, 'showLatestPlan': {'diameter': 124017.98303222656, 'rows': 43070}, 'compareTo': {'diameter': 190565.67166137695, 'rows': 58738}, 'getFiles': {'diameter': 68799.45709228516, 'rows': 22244}, 'addToTechnicalComment': {'diameter': 52727.634704589844, 'rows': 17060}, 'resolveValue': {'diameter': 101657.7057800293, 'rows': 37020}, 'markStart': {'diameter': 39713.82650756836, 'rows': 15366}, 'makeUniqueParagraphForGlobalWithLength': {'diameter': 27550.57582092285, 'rows': 10644}, 'getRelFeedItems': {'diameter': 94158.42909240723, 'rows': 31544}, 'getClassNameForLookAndFeel': {'diameter': 174040.93045043945, 'rows': 60022}, 'getOkCommand18': {'diameter': 56343.80049133301, 'rows': 20126}, 'pluginRegistryContains': {'diameter': 46098.96032714844, 'rows': 14168}, 'testGetEvtIDs': {'diameter': 57606.722900390625, 'rows': 19792}, 'readFromFile': {'diameter': 147783.93321228027, 'rows': 52518}, 'getGlobalElements': {'diameter': 61742.78161621094, 'rows': 22506}, 'test': {'diameter': 94187.24598693848, 'rows': 29728}, 'exportXVRL': {'diameter': 200522.29205322266, 'rows': 62330}, 'checkDescendantM': {'diameter': 59920.53422546387, 'rows': 18950}, 'testSetChkEvtID': {'diameter': 107133.49618530273, 'rows': 34194}, 'getMenuAdministracion': {'diameter': 174359.76947021484, 'rows': 56674}, 'visitRetStmt': {'diameter': 194953.4691772461, 'rows': 59186}, 'clone': {'diameter': 83185.4705657959, 'rows': 25874}, 'createCacheFile': {'diameter': 225394.06748962402, 'rows': 69570}, 'getTargetServiceName': {'diameter': 112246.30476379395, 'rows': 30954}, 'addRelativeHeaders': {'diameter': 46266.8134765625, 'rows': 15942}, 'leaveAll': {'diameter': 15108.90885925293, 'rows': 5842}, 'isInvalidEmailLink': {'diameter': 27549.52522277832, 'rows': 10406}, 'genIdents': {'diameter': 26640.975067138672, 'rows': 10352}, 'resetSchedConflict': {'diameter': 157109.5538482666, 'rows': 54332}, 'getApplicableLaw': {'diameter': 78925.80415344238, 'rows': 21950}, 'createDataset': {'diameter': 69504.67436218262, 'rows': 24548}, 'toString': {'diameter': 70546.5789642334, 'rows': 24498}, 'saveSetting': {'diameter': 125960.38734436035, 'rows': 42500}, 'setUpMrj': {'diameter': 128031.39128112793, 'rows': 46022}, 'abstractMatrix3D': {'diameter': 274446.321395874, 'rows': 77900}, 'process': {'diameter': 90557.1831817627, 'rows': 29742}, 'testMoveRFWithNullContainer': {'diameter': 57272.77510070801, 'rows': 18358}, 'load': {'diameter': 43186.85530090332, 'rows': 14134}, 'makeCenter': {'diameter': 70881.86637878418, 'rows': 25748}, 'iamNear': {'diameter': 113156.95043945312, 'rows': 39076}, 'listen': {'diameter': 111201.03791809082, 'rows': 35408}, 'getNAGString': {'diameter': 218339.6169281006, 'rows': 76796}, 'documentLoadingCompleted': {'diameter': 79263.04490661621, 'rows': 28618}, 'loadSystems': {'diameter': 15784.361679077148, 'rows': 6020}}\n"
     ]
    }
   ],
   "source": [
    "print(by_function)"
   ]
  },
  {
   "cell_type": "code",
   "execution_count": 5,
   "metadata": {},
   "outputs": [],
   "source": [
    "pd_by_function = {key : by_function[key]['diameter']/by_function[key]['rows'] for key in by_function}"
   ]
  },
  {
   "cell_type": "code",
   "execution_count": 6,
   "metadata": {},
   "outputs": [],
   "source": [
    "# with open(\"pd_by_participant.pkl\", \"wb\") as f:\n",
    "#     pickle.dump(diameters, f)\n",
    "    \n",
    "with open(\"pd_by_function.pkl\", \"wb\") as f:\n",
    "    pickle.dump(pd_by_function, f)"
   ]
  },
  {
   "cell_type": "code",
   "execution_count": 16,
   "metadata": {},
   "outputs": [
    {
     "name": "stdout",
     "output_type": "stream",
     "text": [
      "comment\n",
      "expr\n",
      "operator\n",
      "return\n",
      "break\n",
      "else\n",
      "synchronized\n",
      "extends\n",
      "incr\n",
      "assert\n",
      "type\n",
      "argument\n",
      "literal\n",
      "catch\n",
      "finally\n",
      "argument_list\n",
      "annotation\n",
      "throw\n",
      "throws\n",
      "parameter_list\n",
      "range\n",
      "index\n",
      "while\n",
      "call\n",
      "super\n",
      "block_content\n",
      "parameter\n",
      "if\n",
      "ternary\n",
      "try\n",
      "condition\n",
      "class\n",
      "continue\n",
      "decl_stmt\n",
      "then\n",
      "specifier\n",
      "block\n",
      "for\n",
      "expr_stmt\n",
      "init\n",
      "function\n",
      "if_stmt\n",
      "control\n",
      "name\n",
      "decl\n"
     ]
    }
   ],
   "source": [
    "# look for unique tags in tree parts\n",
    "pathname = \"/home/zachkaras/codeSummary_eyetracking/codesummary_eyetracking/task/analysis/fully_annotated\"\n",
    "fully_annotated = os.listdir(pathname)\n",
    "unique_tree_parts = set()\n",
    "for file in fully_annotated:\n",
    "    df = pd.read_csv(f\"{pathname}/{file}\")\n",
    "    for i, row in df.iterrows():\n",
    "        tree_parts = literal_eval(row['tree_parts'])\n",
    "        for word in tree_parts:\n",
    "            unique_tree_parts.add(word)\n",
    "\n",
    "for branch in unique_tree_parts:\n",
    "    print(branch)\n"
   ]
  },
  {
   "cell_type": "code",
   "execution_count": 3,
   "metadata": {},
   "outputs": [],
   "source": [
    "with open(\"midprocessing/function_loc.pkl\", \"rb\") as f:\n",
    "    all_loc = pickle.load(f)\n",
    "    \n",
    "with open(\"midprocessing/function_complexity.pkl\", \"rb\") as f:\n",
    "    all_complexity = pickle.load(f)\n",
    "    "
   ]
  },
  {
   "cell_type": "code",
   "execution_count": 12,
   "metadata": {},
   "outputs": [
    {
     "name": "stdout",
     "output_type": "stream",
     "text": [
      "Minimum: 5 | Maximum: 26 | Average: 11.722222222222221 | ST.D. 4.248819734444198\n"
     ]
    }
   ],
   "source": [
    "print(f\"Minimum: {min(all_loc.values())} | Maximum: {max(all_loc.values())} | Average: {mean(all_loc.values())} | ST.D. {np.std(list(all_loc.values()))}\")"
   ]
  },
  {
   "cell_type": "code",
   "execution_count": 4,
   "metadata": {},
   "outputs": [
    {
     "name": "stdout",
     "output_type": "stream",
     "text": [
      "Minimum: 1 | Maximum: 11 | Average: 2.5925925925925926 | ST.D. 1.5617161957265195\n"
     ]
    }
   ],
   "source": [
    "print(f\"Minimum: {min(all_complexity.values())} | Maximum: {max(all_complexity.values())} | Average: {mean(all_complexity.values())} | ST.D. {np.std(list(all_complexity.values()))}\")"
   ]
  },
  {
   "cell_type": "code",
   "execution_count": 3,
   "metadata": {},
   "outputs": [],
   "source": [
    "with open(\"midprocessing/abstract_code_parts.pkl\", \"rb\") as f:\n",
    "    abstract_code_parts = pickle.load(f)\n"
   ]
  },
  {
   "cell_type": "code",
   "execution_count": 4,
   "metadata": {},
   "outputs": [],
   "source": [
    "code_part_counts = {}\n",
    "for k, v in abstract_code_parts.items():\n",
    "    for kk, vv in v.items():\n",
    "        try:\n",
    "            word = vv[0]\n",
    "            if word in code_part_counts:\n",
    "                code_part_counts[word] += 1\n",
    "            else:\n",
    "                code_part_counts[word] = 1\n",
    "        except:\n",
    "            x=\"hello\"\n",
    "            \n"
   ]
  },
  {
   "cell_type": "code",
   "execution_count": 5,
   "metadata": {},
   "outputs": [
    {
     "data": {
      "text/plain": [
       "5692"
      ]
     },
     "execution_count": 5,
     "metadata": {},
     "output_type": "execute_result"
    }
   ],
   "source": [
    "sum(code_part_counts.values())"
   ]
  },
  {
   "cell_type": "code",
   "execution_count": 6,
   "metadata": {},
   "outputs": [
    {
     "data": {
      "text/plain": [
       "{'function declaration': 465,\n",
       " 'parameter': 349,\n",
       " 'variable declaration': 937,\n",
       " 'variable': 126,\n",
       " 'function call': 277,\n",
       " 'argument': 601,\n",
       " 'external class': 59,\n",
       " 'exception handling': 197,\n",
       " 'conditional statement': 807,\n",
       " 'comment': 78,\n",
       " 'conditional block': 461,\n",
       " 'return': 362,\n",
       " 'loop': 650,\n",
       " 'externally defined variable or function': 216,\n",
       " 'literal': 9,\n",
       " 'assignment': 74,\n",
       " 'operator': 16,\n",
       " 'operation': 7,\n",
       " 'index operation': 1}"
      ]
     },
     "execution_count": 6,
     "metadata": {},
     "output_type": "execute_result"
    }
   ],
   "source": [
    "code_part_counts"
   ]
  },
  {
   "cell_type": "markdown",
   "metadata": {},
   "source": [
    "#### Time Differences"
   ]
  },
  {
   "cell_type": "code",
   "execution_count": 2,
   "metadata": {},
   "outputs": [
    {
     "name": "stdout",
     "output_type": "stream",
     "text": [
      "[111, 117, 119, 129, 136, 166, 182, 317, 319]\n"
     ]
    }
   ],
   "source": [
    "nd_demo = pd.read_csv(\"/storage1/code-summarization-study/NDStudy.csv\")\n",
    "vd_demo = pd.read_csv(\"/storage1/code-summarization-study/Task_Data_Vandy.csv\")\n",
    "all_demo = pd.concat([vd_demo, nd_demo])\n",
    "all_demo.reset_index()\n",
    "# print(all_demo['Gender'])\n",
    "women_idx = list(np.where((all_demo['Gender'] == 'F') | (all_demo['Gender'] == 'Female')))[0] #, list(np.where(all_demo['Gender'] == 'Female'))[0])\n",
    "# print(women_idx, all_demo.shape)\n",
    "print(list(all_demo.iloc[women_idx, 0]))\n",
    "# previously split experts and novices into two groups.\n",
    "# Splitting into three to get more of a separation between the novices and the experts\n",
    "# ynov, yexp = make_experience_terciles(all_demo, 'years')\n",
    "# jnov, jexp = make_experience_terciles(all_demo, 'java')\n",
    "# print(f\"Coding Experts: {len(yexp)} | Java Experts: {len(jexp)} | Coding Novices: {len(ynov)} | Java Novices: {len(jnov)}\")\n",
    "# print(list(yexp)) #, list(jexp))"
   ]
  },
  {
   "cell_type": "code",
   "execution_count": 15,
   "metadata": {},
   "outputs": [],
   "source": [
    "experts = ['189', '310', '311', '312', '313', '315', '316', '318', '319']\n",
    "novices = ['111', '117', '129', '139', '147', '168', '176', '182', '186', '191']\n",
    "women = ['111', '117', '119', '129', '136', '166', '182', '317', '319']\n",
    "eye_tracking_num_rows_writing = []\n",
    "\n",
    "def calculate_time_duration(filename, pathname, downsample):\n",
    "    df = pd.read_csv(f\"{pathname}{filename}\")\n",
    "    if downsample:\n",
    "        df = df[::2]  # downsample\n",
    "        df = df.reset_index(drop=True)\n",
    "    \n",
    "    codedf = df[df['code'] == 1]\n",
    "    codedf = codedf.reset_index(drop=True)\n",
    "    if re.search(\"writing\", filename):\n",
    "        eye_tracking_num_rows_writing.append(len(codedf))\n",
    "    # starttime = df.loc[0, 'system_timestamp']/10**6\n",
    "    # endtime = df['system_timestamp'].iloc[-1]/10**6\n",
    "    return len(codedf)/60\n",
    "    # return (endtime - starttime)\n",
    "    # print(starttime, endtime, endtime - starttime)\n",
    "\n",
    "\n",
    "def preprocess(fullpath, downsample):\n",
    "    gazedf = pd.read_csv(fullpath)\n",
    "    if downsample:\n",
    "        gazedf = gazedf[::2]  # downsample\n",
    "        gazedf = gazedf.reset_index(drop=True)\n",
    "\n",
    "    # get just the rows where participant was looking at code\n",
    "    codedf = gazedf[gazedf['code'] == 1]\n",
    "    codedf = codedf.reset_index(drop=True)\n",
    "    return codedf\n",
    "\n",
    "\n",
    "def remove_outliers(data):\n",
    "    q1, q3 = np.percentile(data, [25, 75])\n",
    "    iqr = q3 - q1\n",
    "    lower_bound = q1 - (1.5 * iqr)\n",
    "    upper_bound = q3 + (1.5 * iqr)\n",
    "\n",
    "    return [x for x in data if lower_bound <= x <= upper_bound]\n"
   ]
  },
  {
   "cell_type": "code",
   "execution_count": 16,
   "metadata": {},
   "outputs": [],
   "source": [
    "# time durations split by task, expertise, and gender\n",
    "time_durations = {\n",
    "    # time durations split by task\n",
    "    'allr':[],'allw':[],\n",
    "    \n",
    "    # time durations split by expertise\n",
    "    'expr':[], 'expw':[], 'novr':[], 'novw':[],\n",
    "    \n",
    "    # time durations split by gender\n",
    "    'womr':[], 'womw':[], 'menr':[], 'menw':[]\n",
    "}\n",
    "\n",
    "\n",
    "# Read through all gaze files\n",
    "pathname = \"../../code_summ_data\"\n",
    "participants = os.listdir(pathname)\n",
    "\n",
    "for person in participants:\n",
    "    downsample = True if int(person) < 300 else False\n",
    "    keys = ['all', '', '']\n",
    "    # splitting based on expertise\n",
    "    if person in experts:\n",
    "        keys[1] += 'exp'\n",
    "    elif person in novices:\n",
    "        keys[1] += 'nov'\n",
    "    else:\n",
    "        continue\n",
    "    \n",
    "    # splitting based on gender\n",
    "    if person in women:\n",
    "        keys[2] += 'wom'\n",
    "    else:\n",
    "        keys[2] += 'men'\n",
    "\n",
    "    path = f\"{pathname}/{person}/annotated_gaze/\"\n",
    "    eyefiles = os.listdir(path) # each participant's files\n",
    "    \n",
    "    for file in eyefiles:\n",
    "        if re.search(\"reading\", file):\n",
    "            keys = [k + 'r' for k in keys]  \n",
    "        elif re.search(\"writing\", file):\n",
    "            keys = [k + 'w' for k in keys]\n",
    "        # print(keys)\n",
    "        duration = calculate_time_duration(file, path, downsample)\n",
    "        for key in keys:\n",
    "            time_durations[key].append(duration)\n",
    "        keys = [k[:-1] for k in keys]\n",
    "    # find whether the person \n",
    "    # for each file, find \n",
    "\n",
    "# find first time, find last time"
   ]
  },
  {
   "cell_type": "code",
   "execution_count": 17,
   "metadata": {},
   "outputs": [],
   "source": [
    "# filtered_durations = {k: remove_outliers(v) for k, v in time_durations.items()}\n",
    "# average_durations = {k: [mean(v)] for k, v in filtered_durations.items()}\n",
    "with open(\"./midprocessing/eye_tracking_num_rows.pkl\", \"wb\") as f:\n",
    "    pickle.dump(eye_tracking_num_rows_writing, f)"
   ]
  },
  {
   "cell_type": "code",
   "execution_count": 5,
   "metadata": {},
   "outputs": [
    {
     "data": {
      "text/plain": [
       "23.16035612158261"
      ]
     },
     "execution_count": 5,
     "metadata": {},
     "output_type": "execute_result"
    }
   ],
   "source": [
    "# average_durations\n",
    "np.std(time_durations['allw'])"
   ]
  },
  {
   "cell_type": "code",
   "execution_count": 4,
   "metadata": {},
   "outputs": [
    {
     "data": {
      "text/plain": [
       "{'test used': \"Welch's\",\n",
       " 'all reading avg': 11.635830999066293,\n",
       " 'all writing avg': 26.539377682403433,\n",
       " 't-value': -12.962043946313685,\n",
       " 'p-value': 4.57346137574553e-34,\n",
       " 'effect size': -0.8828256231737354}"
      ]
     },
     "execution_count": 4,
     "metadata": {},
     "output_type": "execute_result"
    }
   ],
   "source": [
    "# TODO t-tests between the categories\n",
    "my_stats.my_t_test(\"all reading\", \"all writing\", time_durations['allr'], time_durations['allw'])"
   ]
  },
  {
   "cell_type": "code",
   "execution_count": 5,
   "metadata": {},
   "outputs": [
    {
     "data": {
      "text/plain": [
       "{'test used': \"Welch's\",\n",
       " 'exp reading avg': 7.6596361848574235,\n",
       " 'nov reading avg': 15.230311111111112,\n",
       " 't-value': -9.864738367326215,\n",
       " 'p-value': 1.3331903258372472e-21,\n",
       " 'effect size': -0.7349495772835533}"
      ]
     },
     "execution_count": 5,
     "metadata": {},
     "output_type": "execute_result"
    }
   ],
   "source": [
    "my_stats.my_t_test(\"exp reading\", \"nov reading\", time_durations['expr'], time_durations['novr'])\n"
   ]
  },
  {
   "cell_type": "code",
   "execution_count": 7,
   "metadata": {},
   "outputs": [
    {
     "data": {
      "text/plain": [
       "{'test used': \"Welch's\",\n",
       " 'exp writing avg': 21.654870624048705,\n",
       " 'nov writing avg': 30.87017543859649,\n",
       " 't-value': -4.29602052913876,\n",
       " 'p-value': 2.1788970634084296e-05,\n",
       " 'effect size': -0.4051048662223649}"
      ]
     },
     "execution_count": 7,
     "metadata": {},
     "output_type": "execute_result"
    }
   ],
   "source": [
    "my_stats.my_t_test(\"exp writing\", \"nov writing\",\n",
    "                   time_durations['expw'], time_durations['novw'])\n"
   ]
  },
  {
   "cell_type": "code",
   "execution_count": 3,
   "metadata": {},
   "outputs": [],
   "source": [
    "df = pd.read_csv(\"../codesummary_eyetracking/task/stimuli/pruned_seeds2.csv\")"
   ]
  },
  {
   "cell_type": "code",
   "execution_count": 7,
   "metadata": {},
   "outputs": [
    {
     "name": "stdout",
     "output_type": "stream",
     "text": [
      "158\n"
     ]
    }
   ],
   "source": [
    "max_line = 0\n",
    "for i, row in df.iterrows():\n",
    "    code = row['function']\n",
    "    for line in code.splitlines():\n",
    "        length = len(line)\n",
    "        if length > max_line:\n",
    "            max_line = length\n",
    "print(max_line)"
   ]
  },
  {
   "cell_type": "code",
   "execution_count": 11,
   "metadata": {},
   "outputs": [
    {
     "data": {
      "text/plain": [
       "1.4258660508083143"
      ]
     },
     "execution_count": 11,
     "metadata": {},
     "output_type": "execute_result"
    }
   ],
   "source": [
    "30.87/21.65"
   ]
  },
  {
   "cell_type": "code",
   "execution_count": 10,
   "metadata": {},
   "outputs": [
    {
     "data": {
      "text/plain": [
       "1.8668407310704962"
      ]
     },
     "execution_count": 10,
     "metadata": {},
     "output_type": "execute_result"
    }
   ],
   "source": [
    "14.3/7.66"
   ]
  },
  {
   "cell_type": "code",
   "execution_count": 25,
   "metadata": {},
   "outputs": [],
   "source": [
    "fc_reading = [0.080365297,\t0.142367906,\n",
    "              0.012785388,\t0.06409002,\n",
    "              0.047945205,\t0.187866928,\n",
    "              0.026027397,\t0.119863014,\n",
    "              0.01826484,\t0.042563601,\n",
    "              0.015525114,\t0.050880626]\n",
    "fc_writing = [0.043687761,\t0.064700865,\n",
    "              0.038708641,\t0.064457171,\n",
    "              0.076614199,\t0.093091264,\n",
    "              0.037584324,\t0.044717924,\n",
    "              0.051557983,\t0.053003534,\n",
    "              0.028429168,\t0.014256123]\n"
   ]
  },
  {
   "cell_type": "code",
   "execution_count": 26,
   "metadata": {},
   "outputs": [
    {
     "data": {
      "text/plain": [
       "{'test used': [\"Welch's\"],\n",
       " 'reading avg': [0.067378778],\n",
       " 'writing avg': [0.05090074641666666],\n",
       " 't-value': [0.9560042337374911],\n",
       " 'p-value': [0.3550569495897029],\n",
       " 'effect size': [0.39028709409954604]}"
      ]
     },
     "execution_count": 26,
     "metadata": {},
     "output_type": "execute_result"
    }
   ],
   "source": [
    "my_stats.my_t_test(\"reading\", \"writing\", fc_reading, fc_writing)\n"
   ]
  },
  {
   "cell_type": "code",
   "execution_count": 27,
   "metadata": {},
   "outputs": [],
   "source": [
    "fd_reading = [0.030866675,\t0.063439087,\n",
    "              0.015038042,\t0.059775033,\n",
    "              0.038822535,\t0.108756982,\n",
    "              0.027917494,\t0.076112271,\n",
    "              0.007844436,\t0.042828171,\n",
    "              0.014298256,\t0.044990357]\n",
    "fd_writing = [0.042146378,\t0.075727161,\n",
    "              0.038052041,\t0.083748988,\n",
    "              0.100237108,\t0.166378702,\n",
    "              0.041383619,\t0.097797469,\n",
    "              0.030681136,\t0.044627092,\n",
    "              0.030075404,\t0.034863889]\n"
   ]
  },
  {
   "cell_type": "code",
   "execution_count": 28,
   "metadata": {},
   "outputs": [
    {
     "data": {
      "text/plain": [
       "{'test used': [\"Welch's\"],\n",
       " 'reading avg': [0.044224111583333336],\n",
       " 'writing avg': [0.06547658225],\n",
       " 't-value': [-1.461164124556789],\n",
       " 'p-value': [0.1596387834171996],\n",
       " 'effect size': [-0.5965177559374361]}"
      ]
     },
     "execution_count": 28,
     "metadata": {},
     "output_type": "execute_result"
    }
   ],
   "source": [
    "my_stats.my_t_test(\"reading\", \"writing\", fd_reading, fd_writing)\n"
   ]
  },
  {
   "cell_type": "code",
   "execution_count": null,
   "metadata": {},
   "outputs": [],
   "source": []
  }
 ],
 "metadata": {
  "kernelspec": {
   "display_name": "env",
   "language": "python",
   "name": "python3"
  },
  "language_info": {
   "codemirror_mode": {
    "name": "ipython",
    "version": 3
   },
   "file_extension": ".py",
   "mimetype": "text/x-python",
   "name": "python",
   "nbconvert_exporter": "python",
   "pygments_lexer": "ipython3",
   "version": "3.8.10"
  },
  "orig_nbformat": 4
 },
 "nbformat": 4,
 "nbformat_minor": 2
}
