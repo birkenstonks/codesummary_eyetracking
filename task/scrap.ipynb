{
 "cells": [
  {
   "cell_type": "code",
   "execution_count": 1,
   "metadata": {},
   "outputs": [],
   "source": [
    "import os\n",
    "import cv2\n",
    "import numpy as np\n",
    "from os import path\n",
    "import pandas as pd\n",
    "import re\n",
    "from selenium import webdriver"
   ]
  },
  {
   "cell_type": "code",
   "execution_count": 7,
   "metadata": {},
   "outputs": [],
   "source": [
    "boxes = os.listdir('bounding_boxes/word_coordinates_split_6_4/')\n",
    "stims = os.listdir('bounding_boxes/final_stimuli/')\n",
    "\n",
    "for file in boxes:\n",
    "    pic = re.sub(\"_boxes.csv\", \"\", file)\n",
    "    img = cv2.imread(f'bounding_boxes/final_stimuli/{pic}.png')\n",
    "    df = pd.read_csv(f'bounding_boxes/word_coordinates_split_6_4/{file}')\n",
    "    for i, row in df.iterrows():\n",
    "        #box = contours[(len(contours)-1)-ii]\n",
    "        try:\n",
    "            x, y, w, h = int(row['x']), int(row['y']), int(row['width']), int(row['height'])\n",
    "            tangle = cv2.rectangle(img, (x, y), (x+w, y+h),\n",
    "                                        (0, 255, 0, 2))  # drawing the rectangle\n",
    "        except:\n",
    "            print(row)\n",
    "    cv2.imwrite(f\"./bounding_boxes/testing/split_test/{pic}.png\", img)\n",
    "    "
   ]
  },
  {
   "cell_type": "code",
   "execution_count": 35,
   "metadata": {},
   "outputs": [],
   "source": [
    "csv = pd.read_csv(\"stimuli/pruned_seeds2.csv\")\n",
    "boxes = pd.read_csv(\"bounding_boxes/word_coordinates_final/liesBetween_boxes.csv\")\n",
    "raw_code = csv['function'][48]"
   ]
  },
  {
   "cell_type": "code",
   "execution_count": 21,
   "metadata": {},
   "outputs": [],
   "source": [
    "def get_all_line_col(input_str, word):\n",
    "    lines = input_str.split('\\n')\n",
    "    occurrences = []\n",
    "    for i, line in enumerate(lines, start=1):\n",
    "        start = 0\n",
    "        while True:\n",
    "            start = line.find(word, start)\n",
    "            if start == -1:\n",
    "                break\n",
    "            column = start + 1\n",
    "            occurrences.append((i, column))\n",
    "            start += len(word)\n",
    "    return occurrences"
   ]
  },
  {
   "cell_type": "code",
   "execution_count": 34,
   "metadata": {},
   "outputs": [
    {
     "name": "stdout",
     "output_type": "stream",
     "text": [
      "hello \n",
      "hello \n",
      "hello private boolean liesBetween( double x1, double x2, double x3 ) {\n",
      "hello     if (( x1 <= x2 ) \n",
      "hello     \t&& ( x3 >= x1 - ACCURACY && x3 <= x2 + ACCURACY ))\n",
      "hello     \t\treturn true;\n",
      "hello     if (( x1 >= x2 ) \n",
      "hello     \t&& ( x3 >= x2 - ACCURACY && x3 <= x1 + ACCURACY ))\n",
      "hello     \t\treturn true;\n",
      "hello     \t\n",
      "hello     return false;\n",
      "hello } \n",
      "hello \n",
      "Occurrence 1 of the word \"return\" was found at line 6, column 7.\n",
      "Occurrence 2 of the word \"return\" was found at line 9, column 7.\n",
      "Occurrence 3 of the word \"return\" was found at line 11, column 5.\n"
     ]
    }
   ],
   "source": [
    "word = 'return'\n",
    "occurrences = get_all_line_col(raw_code, word)\n",
    "if occurrences:\n",
    "    for i, (line, col) in enumerate(occurrences, start=1):\n",
    "        print(\n",
    "            f'Occurrence {i} of the word \"{word}\" was found at line {line}, column {col}.')\n",
    "else:\n",
    "    print(f'The word \"{word}\" was not found in the input string.')\n"
   ]
  },
  {
   "attachments": {},
   "cell_type": "markdown",
   "metadata": {},
   "source": []
  },
  {
   "cell_type": "code",
   "execution_count": 1,
   "metadata": {},
   "outputs": [
    {
     "name": "stdout",
     "output_type": "stream",
     "text": [
      "0\n"
     ]
    }
   ],
   "source": [
    "for i in range(1):\n",
    "    print(i)"
   ]
  },
  {
   "cell_type": "code",
   "execution_count": 3,
   "metadata": {},
   "outputs": [
    {
     "ename": "FileNotFoundError",
     "evalue": "[Errno 2] No such file or directory: '/home/zachkaras/codeSummary_eyetracking/codesummary_eyetracking/task/eyetracking_visualization/cap_string_test/'",
     "output_type": "error",
     "traceback": [
      "\u001b[0;31m---------------------------------------------------------------------------\u001b[0m",
      "\u001b[0;31mFileNotFoundError\u001b[0m                         Traceback (most recent call last)",
      "Cell \u001b[0;32mIn [3], line 3\u001b[0m\n\u001b[1;32m      1\u001b[0m directory \u001b[39m=\u001b[39m \u001b[39m'\u001b[39m\u001b[39m/home/zachkaras/codeSummary_eyetracking/codesummary_eyetracking/task/eyetracking_visualization/cap_string_test/\u001b[39m\u001b[39m'\u001b[39m\n\u001b[1;32m      2\u001b[0m \u001b[39m#directory = './eyetracking_visualization/test/'\u001b[39;00m\n\u001b[0;32m----> 3\u001b[0m os\u001b[39m.\u001b[39;49mchdir(directory)\n",
      "\u001b[0;31mFileNotFoundError\u001b[0m: [Errno 2] No such file or directory: '/home/zachkaras/codeSummary_eyetracking/codesummary_eyetracking/task/eyetracking_visualization/cap_string_test/'"
     ]
    }
   ],
   "source": [
    "directory = '/home/zachkaras/codeSummary_eyetracking/codesummary_eyetracking/task/eyetracking_visualization/cap_string_test/'\n",
    "#directory = './eyetracking_visualization/test/'\n",
    "os.chdir(directory)"
   ]
  },
  {
   "cell_type": "code",
   "execution_count": 6,
   "metadata": {},
   "outputs": [
    {
     "ename": "TypeError",
     "evalue": "get() missing 1 required positional argument: 'url'",
     "output_type": "error",
     "traceback": [
      "\u001b[0;31m---------------------------------------------------------------------------\u001b[0m",
      "\u001b[0;31mTypeError\u001b[0m                                 Traceback (most recent call last)",
      "Cell \u001b[0;32mIn [6], line 2\u001b[0m\n\u001b[1;32m      1\u001b[0m driver \u001b[39m=\u001b[39m webdriver\u001b[39m.\u001b[39mChrome\n\u001b[0;32m----> 2\u001b[0m driver\u001b[39m.\u001b[39;49mget(\u001b[39m'\u001b[39;49m\u001b[39mhttps://www.python.org\u001b[39;49m\u001b[39m'\u001b[39;49m)\n",
      "\u001b[0;31mTypeError\u001b[0m: get() missing 1 required positional argument: 'url'"
     ]
    }
   ],
   "source": [
    "driver = webdriver.Chrome\n",
    "driver.get('https://www.python.org')\n"
   ]
  },
  {
   "cell_type": "code",
   "execution_count": 1,
   "metadata": {},
   "outputs": [],
   "source": [
    "import cv2\n",
    "import numpy as np\n",
    "from matplotlib import pyplot as plt"
   ]
  },
  {
   "cell_type": "code",
   "execution_count": 2,
   "metadata": {},
   "outputs": [
    {
     "name": "stdout",
     "output_type": "stream",
     "text": [
      "(1080, 1920, 3)\n"
     ]
    }
   ],
   "source": [
    "#img = cv2.imread(\"./bounding_boxes/add_copy.png\")\n",
    "#img = cv2.imread(\"./eyetracking_visualization/reading_task.png\")\n",
    "img = cv2.imread(\"./bounding_boxes/final_stimuli/capitalizeString.png\")\n",
    "# img = cv2.imread(\"./bounding_boxes/temp/markStart/clock.createNewtimer() ;.png\")\n",
    "# img = cv2.imread(\"./bounding_boxes/temp/markStart/GarbagecollectiontimerListener.png\")\n",
    "print(img.shape)"
   ]
  },
  {
   "cell_type": "code",
   "execution_count": null,
   "metadata": {},
   "outputs": [],
   "source": [
    "cropped_image = img[]"
   ]
  },
  {
   "cell_type": "code",
   "execution_count": 3,
   "metadata": {},
   "outputs": [
    {
     "data": {
      "text/plain": [
       "<matplotlib.image.AxesImage at 0x7f57da7dc850>"
      ]
     },
     "execution_count": 3,
     "metadata": {},
     "output_type": "execute_result"
    },
    {
     "data": {
      "image/png": "[encoded data removed]",
      "text/plain": [
       "<Figure size 640x480 with 1 Axes>"
      ]
     },
     "metadata": {},
     "output_type": "display_data"
    }
   ],
   "source": [
    "# letter_width = 1690/31\n",
    "# garbage = round(7*letter_width)\n",
    "# print(garbage)\n",
    "# clock_img = img[:, 0:garbage]\n",
    "# plt.imshow(clock_img)\n",
    "plt.imshow(img)"
   ]
  },
  {
   "cell_type": "code",
   "execution_count": 5,
   "metadata": {},
   "outputs": [
    {
     "name": "stdout",
     "output_type": "stream",
     "text": [
      "[[254 254 254]\n",
      " [254 254 254]\n",
      " [254 254 254]\n",
      " ...\n",
      " [254 254 254]\n",
      " [254 254 254]\n",
      " [254 254 254]]\n"
     ]
    },
    {
     "ename": "error",
     "evalue": "OpenCV(4.5.4) :-1: error: (-5:Bad argument) in function 'resize'\n> Overload resolution failed:\n>  - Can't parse 'dsize'. Sequence item with index 0 has a wrong type\n>  - Can't parse 'dsize'. Sequence item with index 0 has a wrong type\n",
     "output_type": "error",
     "traceback": [
      "\u001b[0;31m---------------------------------------------------------------------------\u001b[0m",
      "\u001b[0;31merror\u001b[0m                                     Traceback (most recent call last)",
      "\u001b[1;32m/home/zachkaras/codeSummary_eyetracking/codesummary_eyetracking/task/scrap.ipynb Cell 11\u001b[0m in \u001b[0;36m2\n\u001b[1;32m      <a href='vscode-notebook-cell://ssh-remote%2Bcumberland.isis.vanderbilt.edu/home/zachkaras/codeSummary_eyetracking/codesummary_eyetracking/task/scrap.ipynb#X13sdnNjb2RlLXJlbW90ZQ%3D%3D?line=0'>1</a>\u001b[0m \u001b[39mprint\u001b[39m(img[\u001b[39m0\u001b[39m]\u001b[39m*\u001b[39m\u001b[39m2\u001b[39m)\n\u001b[0;32m----> <a href='vscode-notebook-cell://ssh-remote%2Bcumberland.isis.vanderbilt.edu/home/zachkaras/codeSummary_eyetracking/codesummary_eyetracking/task/scrap.ipynb#X13sdnNjb2RlLXJlbW90ZQ%3D%3D?line=1'>2</a>\u001b[0m resized \u001b[39m=\u001b[39m cv2\u001b[39m.\u001b[39;49mresize(img, (img[\u001b[39m0\u001b[39;49m]\u001b[39m*\u001b[39;49m\u001b[39m2\u001b[39;49m, img[\u001b[39m1\u001b[39;49m]\u001b[39m*\u001b[39;49m\u001b[39m2\u001b[39;49m), interpolation\u001b[39m=\u001b[39;49mcv2\u001b[39m.\u001b[39;49mINTER_LINEAR)\n",
      "\u001b[0;31merror\u001b[0m: OpenCV(4.5.4) :-1: error: (-5:Bad argument) in function 'resize'\n> Overload resolution failed:\n>  - Can't parse 'dsize'. Sequence item with index 0 has a wrong type\n>  - Can't parse 'dsize'. Sequence item with index 0 has a wrong type\n"
     ]
    }
   ],
   "source": [
    "print(img[0]*2)\n",
    "resized = cv2.resize(img, (img[0]*2, img[1]*2), interpolation=cv2.INTER_LINEAR)"
   ]
  },
  {
   "cell_type": "code",
   "execution_count": 31,
   "metadata": {},
   "outputs": [
    {
     "data": {
      "text/plain": [
       "<matplotlib.image.AxesImage at 0x7fb623946df0>"
      ]
     },
     "execution_count": 31,
     "metadata": {},
     "output_type": "execute_result"
    },
    {
     "data": {
      "image/png": "[encoded data removed]",
      "text/plain": [
       "<Figure size 640x480 with 1 Axes>"
      ]
     },
     "metadata": {},
     "output_type": "display_data"
    }
   ],
   "source": [
    "#plt.imshow(img)\n",
    "cropped_img = img\n",
    "test = cropped_img[:, 118:]\n",
    "plt.imshow(test)"
   ]
  },
  {
   "cell_type": "code",
   "execution_count": 9,
   "metadata": {},
   "outputs": [],
   "source": [
    "# crop_test = img[:, 1150:1920] # these settings look good for visualization purposes of reading stimuli\n",
    "# plt.imshow(crop_test)\n",
    "#cropped_image = img[100:1000, 10:1150]  # these measurements look good\n",
    "\n",
    "################\n",
    "### READING TASK\n",
    "################\n",
    "# code :                   img[85:1060, 0:1175]\n",
    "# prewritten summary:      img[200:325, 1175:1875]\n",
    "# accurate:                img[450:550, 1175:1775]\n",
    "# missing important info:  img[550:700, 1175:1775]\n",
    "# unncecessary:            img[725:825, 1175:1775]\n",
    "# easily readable English: img[825:950, 1175:1775]\n",
    "\n",
    "################\n",
    "### WRITING TASK\n",
    "################\n",
    "# Writing summary img[85:385, 1165:1885]\n",
    "cropped_image = img[85:1060, 0:1175]\n",
    "#test = cropped_image[11:(11+15), 494:(494+24)]\n"
   ]
  },
  {
   "cell_type": "code",
   "execution_count": 10,
   "metadata": {},
   "outputs": [
    {
     "data": {
      "text/plain": [
       "<matplotlib.image.AxesImage at 0x7f57d74d6b80>"
      ]
     },
     "execution_count": 10,
     "metadata": {},
     "output_type": "execute_result"
    },
    {
     "data": {
      "image/png": "[encoded data removed]",
      "text/plain": [
       "<Figure size 640x480 with 1 Axes>"
      ]
     },
     "metadata": {},
     "output_type": "display_data"
    }
   ],
   "source": [
    "plt.imshow(cropped_image)"
   ]
  },
  {
   "cell_type": "code",
   "execution_count": 3,
   "metadata": {},
   "outputs": [],
   "source": [
    "import cv2\n",
    "import pandas as pd\n",
    "import numpy as np\n",
    "import pytesseract\n",
    "from matplotlib import pyplot as plt\n",
    "\n",
    "plt.rcParams['figure.dpi'] = 300\n",
    "plt.rcParams['savefig.dpi'] = 300\n",
    "\n",
    "#pytesseract.pytesseract.tesseract_cmd = '/home/zachkaras/.local/bin/pytesseract'\n",
    "\n",
    "# Add code here for reading in input\n",
    "img = cv2.imread('./bounding_boxes/final_stimuli/add.png')\n",
    "img = img[100:1000, 10:1150]\n",
    "gray = cv2.cvtColor(img, cv2.COLOR_BGR2GRAY)\n",
    "ret, thresh = cv2.threshold(gray, 0, 255, cv2.THRESH_OTSU | cv2.THRESH_BINARY_INV)\n",
    "rect_kernel = cv2.getStructuringElement(cv2.MORPH_RECT, (8, 8))\n",
    "dilation = cv2.dilate(thresh, rect_kernel, iterations=1)\n",
    "contours, hierarchy = cv2.findContours(dilation, cv2.RETR_EXTERNAL, cv2.CHAIN_APPROX_NONE)\n",
    "\n",
    "img2 = img.copy()\n",
    "#plt.imshow(gray)\n",
    "# exit(1)\n",
    "# #img = cv2.threshold(img, 127, 255, cv2.THRESH_BINARY)\n",
    "# #plt.imshow(img)\n",
    "# # # Convert to gray    \n",
    "# # #img = cv2.cvtColor(img, cv2.COLOR_BGR2GRAY)    # Apply dilation and erosion to remove some noise    \n",
    "# # kernel = np.ones((1, 1), np.uint8)    \n",
    "# # img = cv2.dilate(img, kernel, iterations=1)    \n",
    "# # img = cv2.erode(img, kernel, iterations=1)\n",
    "# c = 0\n",
    "for box in contours:\n",
    "\n",
    "    x, y, w, h = cv2.boundingRect(box)  # coordinates, width, and height\n",
    "    tangle = cv2.rectangle(img2, (x, y), (x+w, y+h),\n",
    "                           (0, 255, 0, 2))  # drawing the rectangle\n",
    "\n",
    "    word_img = gray[y:y+h, x:x+w]  # getting the word from the image\n",
    "    test_y = word_img.shape[0]\n",
    "    test_x = word_img.shape[1]\n",
    "    #plt.imshow(word_img)\n",
    "    test = cv2.resize(word_img, (test_x * 5, test_y * 5))\n",
    "    \n",
    "    cv2.imwrite(\"./resizeTest.png\", test)\n",
    "    \n",
    "\n",
    "    #word = \"word{c}\".format(c=c)  # FIXME - temp before I can get pytesseract\n",
    "    #word = pytesseract.image_to_string(word_img)\n",
    "    #print(type(word))\n",
    "    #test.append(word)\n",
    "    exit(1)\n",
    "\n",
    "    #new_entry = {word: [[x, y], [x+w, y], [x, y+h], [x+w, y+h]]}\n",
    "    #pd.concat([coordinates, new_entry])\n"
   ]
  },
  {
   "cell_type": "code",
   "execution_count": null,
   "metadata": {},
   "outputs": [],
   "source": [
    "# Doing some preprocessing on the screenshot https://www.geeksforgeeks.org/text-detection-and-extraction-using-opencv-and-ocr/\n",
    "ret, thresh = cv2.threshold(\n",
    "    gray, 0, 255, cv2.THRESH_OTSU | cv2.THRESH_BINARY_INV)\n",
    "rect_kernel = cv2.getStructuringElement(cv2.MORPH_RECT, (8, 8))\n",
    "dilation = cv2.dilate(thresh, rect_kernel, iterations=1)\n",
    "contours, hierarchy = cv2.findContours(\n",
    "    dilation, cv2.RETR_EXTERNAL, cv2.CHAIN_APPROX_NONE)\n",
    "plt.imshow(img)\n",
    "\n",
    "#img2 = img.copy()\n",
    "img2 = cv2.resize(img, (0, 0), fx=2, fy=2)\n",
    "#pytesseract.image_to_string(img2, thresh)\n",
    "# putting all coordinates for each function's bounding boxes into their own CSVs\n",
    "coordinates = pd.DataFrame()\n",
    "c = 1\n",
    "test = []\n",
    "# adding coordinates for each word into two separate lists\n",
    "for box in contours:\n",
    "\n",
    "    x, y, w, h = cv2.boundingRect(box)  # coordinates, width, and height\n",
    "    tangle = cv2.rectangle(img2, (x, y), (x+w, y+h),\n",
    "                           (0, 255, 0, 2))  # drawing the rectangle\n",
    "\n",
    "    word_img = img2[y:y+h, x:x+w]  # getting the word from the image\n",
    "\n",
    "    word = \"word{c}\".format(c=c)  # FIXME - temp before I can get pytesseract\n",
    "    word = pytesseract.image_to_string(word_img)\n",
    "    #print(type(word))\n",
    "    test.append(word)\n",
    "    c += 1\n",
    "\n",
    "    #new_entry = {word: [[x, y], [x+w, y], [x, y+h], [x+w, y+h]]}\n",
    "    #pd.concat([coordinates, new_entry])\n",
    "\n",
    "#coordinates.to_csv('./word_coordinates/{file}.csv'.format(file=filename[:-4]))\n",
    "print(test)\n",
    "print(len(test))\n"
   ]
  }
 ],
 "metadata": {
  "kernelspec": {
   "display_name": "Python 3.8.10 64-bit",
   "language": "python",
   "name": "python3"
  },
  "language_info": {
   "codemirror_mode": {
    "name": "ipython",
    "version": 3
   },
   "file_extension": ".py",
   "mimetype": "text/x-python",
   "name": "python",
   "nbconvert_exporter": "python",
   "pygments_lexer": "ipython3",
   "version": "3.8.10"
  },
  "orig_nbformat": 4,
  "vscode": {
   "interpreter": {
    "hash": "e7370f93d1d0cde622a1f8e1c04877d8463912d04d973331ad4851f04de6915a"
   }
  }
 },
 "nbformat": 4,
 "nbformat_minor": 2
}
