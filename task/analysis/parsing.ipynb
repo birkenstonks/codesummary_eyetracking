{
 "cells": [
  {
   "cell_type": "code",
   "execution_count": 1,
   "metadata": {},
   "outputs": [],
   "source": [
    "import os\n",
    "import re\n",
    "import subprocess\n",
    "import pandas as pd\n",
    "from bs4 import BeautifulSoup, Tag"
   ]
  },
  {
   "cell_type": "code",
   "execution_count": 3,
   "metadata": {},
   "outputs": [],
   "source": [
    "# imported from Zach's computer, where he (ChatGPT API) wrapped the java functions in class headers\n",
    "filedir = os.listdir(\"wrapped_functions\")"
   ]
  },
  {
   "cell_type": "code",
   "execution_count": 3,
   "metadata": {},
   "outputs": [
    {
     "data": {
      "text/plain": [
       "CompletedProcess(args=['srcml', 'wrapped_functions/genSql_wrapped.java', '--position', '-o', 'wrapped_functions/genSql_wrapped.xml'], returncode=0)"
      ]
     },
     "execution_count": 3,
     "metadata": {},
     "output_type": "execute_result"
    }
   ],
   "source": [
    "### ONLY NEED TO RUN THIS ONCE TO PARSE\n",
    "\n",
    "# # parsing each function with srcml\n",
    "# for file in filedir:\n",
    "#     infile = f\"wrapped_functions/{file}\"\n",
    "#     outfile = f\"{infile[:-5]}.xml\"\n",
    "\n",
    "#     subprocess.run([\"srcml\", infile, \"--position\", \"-o\", outfile])"
   ]
  },
  {
   "cell_type": "code",
   "execution_count": 3,
   "metadata": {},
   "outputs": [
    {
     "data": {
      "text/plain": [
       "CompletedProcess(args=['srcml', 'refreshTreePanel.java', '--position', '-o', 'refreshTreePanel.xml'], returncode=0)"
      ]
     },
     "execution_count": 3,
     "metadata": {},
     "output_type": "execute_result"
    }
   ],
   "source": [
    "#infile = f\"wrapped_functions/getBackCommand12_wrapped.java\"\n",
    "#infile = f\"wrapped_functions/getImageWithSource_wrapped.java\"\n",
    "#infile = \"wrapped_functions/updateSchema_wrapped.java\" \n",
    "infile = \"refreshTreePanel.java\"\n",
    "outfile = f\"{infile[:-5]}.xml\"\n",
    "\n",
    "subprocess.run([\"srcml\", infile, \"--position\", \"-o\", outfile])\n"
   ]
  },
  {
   "cell_type": "code",
   "execution_count": 2,
   "metadata": {},
   "outputs": [],
   "source": [
    "pointless = {',':0,     '(':0,   ')':0,   '()':0, '{':0,  '}':0,   ');':0, \n",
    "             '),':0,    '));':0, '];':0,  '[':0,  ']':0,  '))':0,  '){':0,  \n",
    "             ';':0,     ');':0,  '});':0, '};':0, '((':0, ')){':0, ')[':0, \n",
    "             '))));':0, ')))':0, ')(':0,  '.':0}\n",
    "\n",
    "\n",
    "def print_tags(root, tag, stack=None):\n",
    "    global annotations\n",
    "    if not stack:\n",
    "        stack = []\n",
    "        \n",
    "    if isinstance(tag, Tag):\n",
    "        stack.append(tag.name)\n",
    "        for child in tag.children:\n",
    "            print_tags(root, child, stack)\n",
    "        stack.pop()\n",
    "        \n",
    "    elif tag: \n",
    "        tag = tag.strip()\n",
    "        if tag and tag not in pointless:\n",
    "            if tag not in occurrences:\n",
    "                occurrences[tag] = 0\n",
    "            else:\n",
    "                occurrences[tag] += 1\n",
    "\n",
    "            annotations.append({'word': tag, 'occurrence': occurrences[tag],\n",
    "                   'tree_parts': stack.copy()})"
   ]
  },
  {
   "cell_type": "code",
   "execution_count": 3,
   "metadata": {},
   "outputs": [],
   "source": [
    "#with open('./xml_trees/liesBetween_wrapped.xml', 'r') as f:\n",
    "#with open('./xml_trees/markStart_wrapped.xml', 'r') as f:   \n",
    "#trees = os.listdir('xml_trees/')\n",
    "#trees = ['refreshTreePanel.xml']\n",
    "trees = ['pluginRegistryContains_wrapped.xml']\n",
    "# trees = ['getBackCommand12_wrapped.xml']\n",
    "# trees = ['getImageWithSource_wrapped.xml']\n",
    "# trees = ['getRelFeedItems_wrapped.java', 'getStatusFlagFields_wrapped.java', 'removeSer']\n",
    "for trunk in trees: \n",
    "    annotations = []\n",
    "    occurrences = {}\n",
    "    name = re.sub(\"_wrapped.xml\", \"\", trunk)\n",
    "    \n",
    "    with open(f'xml_trees/{trunk}', 'r') as f:\n",
    "        data = f.read()\n",
    "\n",
    "    soup = BeautifulSoup(data, features=\"xml\")\n",
    "    soup = soup.find('function')\n",
    "\n",
    "    print_tags(root=soup, tag=soup)\n",
    "    annotations = pd.DataFrame(annotations)\n",
    "\n",
    "    annotations.to_csv(f'annotations/{name}_annotated.csv', index=False)"
   ]
  },
  {
   "cell_type": "code",
   "execution_count": null,
   "metadata": {},
   "outputs": [],
   "source": []
  }
 ],
 "metadata": {
  "kernelspec": {
   "display_name": "Python 3",
   "language": "python",
   "name": "python3"
  },
  "language_info": {
   "codemirror_mode": {
    "name": "ipython",
    "version": 3
   },
   "file_extension": ".py",
   "mimetype": "text/x-python",
   "name": "python",
   "nbconvert_exporter": "python",
   "pygments_lexer": "ipython3",
   "version": "3.8.10"
  },
  "orig_nbformat": 4
 },
 "nbformat": 4,
 "nbformat_minor": 2
}
