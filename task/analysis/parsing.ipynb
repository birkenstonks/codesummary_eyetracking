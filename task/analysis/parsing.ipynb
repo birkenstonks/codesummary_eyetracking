{
 "cells": [
  {
   "cell_type": "code",
   "execution_count": 1,
   "metadata": {},
   "outputs": [],
   "source": [
    "import os\n",
    "import subprocess"
   ]
  },
  {
   "cell_type": "code",
   "execution_count": 2,
   "metadata": {},
   "outputs": [],
   "source": [
    "# imported from Zach's computer, where he (ChatGPT API) wrapped the java functions in class headers\n",
    "filedir = os.listdir(\"wrapped_functions\")"
   ]
  },
  {
   "cell_type": "code",
   "execution_count": 4,
   "metadata": {},
   "outputs": [],
   "source": [
    "# parsing each function with srcml\n",
    "for file in filedir:\n",
    "    infile = f\"wrapped_functions/{file}\"\n",
    "    outfile = f\"{infile[:-5]}.xml\"\n",
    "\n",
    "    subprocess.run([\"srcml\", infile, \"--position\", \"-o\", outfile])"
   ]
  },
  {
   "cell_type": "code",
   "execution_count": 56,
   "metadata": {},
   "outputs": [
    {
     "data": {
      "text/plain": [
       "<unit filename=\"wrapped_functions/liesBetween_wrapped.java\" language=\"Java\" pos:tabs=\"8\" revision=\"1.0.0\" xmlns=\"http://www.srcML.org/srcML/src\" xmlns:pos=\"http://www.srcML.org/srcML/position\"><class pos:end=\"12:1\" pos:start=\"1:1\"><specifier pos:end=\"1:6\" pos:start=\"1:1\">public</specifier> class <name pos:end=\"1:20\" pos:start=\"1:14\">MyClass</name> <block pos:end=\"12:1\" pos:start=\"1:22\">{\n",
       "    <decl_stmt pos:end=\"2:50\" pos:start=\"2:5\"><decl pos:end=\"2:49\" pos:start=\"2:5\"><type pos:end=\"2:31\" pos:start=\"2:5\"><specifier pos:end=\"2:11\" pos:start=\"2:5\">private</specifier> <specifier pos:end=\"2:18\" pos:start=\"2:13\">static</specifier> <specifier pos:end=\"2:24\" pos:start=\"2:20\">final</specifier> <name pos:end=\"2:31\" pos:start=\"2:26\">double</name></type> <name pos:end=\"2:40\" pos:start=\"2:33\">ACCURACY</name> <init pos:end=\"2:49\" pos:start=\"2:42\">= <expr pos:end=\"2:49\" pos:start=\"2:44\"><literal pos:end=\"2:49\" pos:start=\"2:44\" type=\"number\">0.0001</literal></expr></init></decl>;</decl_stmt>\n",
       "<function pos:end=\"11:5\" pos:start=\"4:5\"><type pos:end=\"4:19\" pos:start=\"4:5\"><specifier pos:end=\"4:11\" pos:start=\"4:5\">private</specifier> <name pos:end=\"4:19\" pos:start=\"4:13\">boolean</name></type> <name pos:end=\"4:31\" pos:start=\"4:21\">liesBetween</name><parameter_list pos:end=\"4:64\" pos:start=\"4:32\">(<parameter pos:end=\"4:41\" pos:start=\"4:33\"><decl pos:end=\"4:41\" pos:start=\"4:33\"><type pos:end=\"4:41\" pos:start=\"4:33\"><name pos:end=\"4:38\" pos:start=\"4:33\">double</name></type> <name pos:end=\"4:41\" pos:start=\"4:40\">x1</name></decl></parameter>, <parameter pos:end=\"4:52\" pos:start=\"4:44\"><decl pos:end=\"4:52\" pos:start=\"4:44\"><type pos:end=\"4:52\" pos:start=\"4:44\"><name pos:end=\"4:49\" pos:start=\"4:44\">double</name></type> <name pos:end=\"4:52\" pos:start=\"4:51\">x2</name></decl></parameter>, <parameter pos:end=\"4:63\" pos:start=\"4:55\"><decl pos:end=\"4:63\" pos:start=\"4:55\"><type pos:end=\"4:63\" pos:start=\"4:55\"><name pos:end=\"4:60\" pos:start=\"4:55\">double</name></type> <name pos:end=\"4:63\" pos:start=\"4:62\">x3</name></decl></parameter>)</parameter_list> <block pos:end=\"11:5\" pos:start=\"4:66\">{<block_content pos:end=\"10:21\" pos:start=\"5:9\">\n",
       "<if_stmt pos:end=\"6:24\" pos:start=\"5:9\"><if pos:end=\"6:24\" pos:start=\"5:9\">if <condition pos:end=\"5:71\" pos:start=\"5:12\">(<expr pos:end=\"5:70\" pos:start=\"5:13\"><operator pos:end=\"5:13\" pos:start=\"5:13\">(</operator><name pos:end=\"5:15\" pos:start=\"5:14\">x1</name> <operator pos:end=\"5:18\" pos:start=\"5:17\">&lt;=</operator> <name pos:end=\"5:21\" pos:start=\"5:20\">x2</name><operator pos:end=\"5:22\" pos:start=\"5:22\">)</operator> <operator pos:end=\"5:25\" pos:start=\"5:24\">&amp;&amp;</operator> <operator pos:end=\"5:27\" pos:start=\"5:27\">(</operator><name pos:end=\"5:29\" pos:start=\"5:28\">x3</name> <operator pos:end=\"5:32\" pos:start=\"5:31\">&gt;=</operator> <name pos:end=\"5:35\" pos:start=\"5:34\">x1</name> <operator pos:end=\"5:37\" pos:start=\"5:37\">-</operator> <name pos:end=\"5:46\" pos:start=\"5:39\">ACCURACY</name> <operator pos:end=\"5:49\" pos:start=\"5:48\">&amp;&amp;</operator> <name pos:end=\"5:52\" pos:start=\"5:51\">x3</name> <operator pos:end=\"5:55\" pos:start=\"5:54\">&lt;=</operator> <name pos:end=\"5:58\" pos:start=\"5:57\">x2</name> <operator pos:end=\"5:60\" pos:start=\"5:60\">+</operator> <name pos:end=\"5:69\" pos:start=\"5:62\">ACCURACY</name><operator pos:end=\"5:70\" pos:start=\"5:70\">)</operator></expr>)</condition><block pos:end=\"6:24\" pos:start=\"6:13\" type=\"pseudo\"><block_content pos:end=\"6:24\" pos:start=\"6:13\">\n",
       "<return pos:end=\"6:24\" pos:start=\"6:13\">return <expr pos:end=\"6:23\" pos:start=\"6:20\"><literal pos:end=\"6:23\" pos:start=\"6:20\" type=\"boolean\">true</literal></expr>;</return></block_content></block></if></if_stmt>\n",
       "<if_stmt pos:end=\"8:24\" pos:start=\"7:9\"><if pos:end=\"8:24\" pos:start=\"7:9\">if <condition pos:end=\"7:71\" pos:start=\"7:12\">(<expr pos:end=\"7:70\" pos:start=\"7:13\"><operator pos:end=\"7:13\" pos:start=\"7:13\">(</operator><name pos:end=\"7:15\" pos:start=\"7:14\">x1</name> <operator pos:end=\"7:18\" pos:start=\"7:17\">&gt;=</operator> <name pos:end=\"7:21\" pos:start=\"7:20\">x2</name><operator pos:end=\"7:22\" pos:start=\"7:22\">)</operator> <operator pos:end=\"7:25\" pos:start=\"7:24\">&amp;&amp;</operator> <operator pos:end=\"7:27\" pos:start=\"7:27\">(</operator><name pos:end=\"7:29\" pos:start=\"7:28\">x3</name> <operator pos:end=\"7:32\" pos:start=\"7:31\">&gt;=</operator> <name pos:end=\"7:35\" pos:start=\"7:34\">x2</name> <operator pos:end=\"7:37\" pos:start=\"7:37\">-</operator> <name pos:end=\"7:46\" pos:start=\"7:39\">ACCURACY</name> <operator pos:end=\"7:49\" pos:start=\"7:48\">&amp;&amp;</operator> <name pos:end=\"7:52\" pos:start=\"7:51\">x3</name> <operator pos:end=\"7:55\" pos:start=\"7:54\">&lt;=</operator> <name pos:end=\"7:58\" pos:start=\"7:57\">x1</name> <operator pos:end=\"7:60\" pos:start=\"7:60\">+</operator> <name pos:end=\"7:69\" pos:start=\"7:62\">ACCURACY</name><operator pos:end=\"7:70\" pos:start=\"7:70\">)</operator></expr>)</condition><block pos:end=\"8:24\" pos:start=\"8:13\" type=\"pseudo\"><block_content pos:end=\"8:24\" pos:start=\"8:13\">\n",
       "<return pos:end=\"8:24\" pos:start=\"8:13\">return <expr pos:end=\"8:23\" pos:start=\"8:20\"><literal pos:end=\"8:23\" pos:start=\"8:20\" type=\"boolean\">true</literal></expr>;</return></block_content></block></if></if_stmt>\n",
       "<return pos:end=\"10:21\" pos:start=\"10:9\">return <expr pos:end=\"10:20\" pos:start=\"10:16\"><literal pos:end=\"10:20\" pos:start=\"10:16\" type=\"boolean\">false</literal></expr>;</return>\n",
       "</block_content>}</block></function>\n",
       "}</block></class></unit>"
      ]
     },
     "execution_count": 56,
     "metadata": {},
     "output_type": "execute_result"
    }
   ],
   "source": [
    "soup.unit"
   ]
  },
  {
   "cell_type": "code",
   "execution_count": 47,
   "metadata": {},
   "outputs": [
    {
     "name": "stdout",
     "output_type": "stream",
     "text": [
      "block\n",
      "block\n",
      "block\n",
      "block\n",
      "block\n",
      "block\n",
      "block\n",
      "block\n",
      "block\n"
     ]
    }
   ],
   "source": [
    "from bs4 import BeautifulSoup, Tag, NavigableString\n",
    "\n",
    "def print_tags(tag):\n",
    "    if isinstance(tag, Tag):\n",
    "        if tag.block_content:\n",
    "            print(\"block\")\n",
    "        for child in tag.children:\n",
    "            print_tags(child)\n",
    "    else:\n",
    "        x = 1\n",
    "        #print(tag)\n",
    "    \n",
    "\n",
    "with open('./xml_trees/liesBetween_wrapped.xml', 'r') as f:\n",
    "    data = f.read()\n",
    "    \n",
    "soup = BeautifulSoup(data, features=\"xml\")\n",
    "unique = set()\n",
    "print_tags(soup.function)\n",
    "# for tag in soup.find_all(True):\n",
    "#     print(tag.contents)\n",
    "    #unique.add(tag.name)\n",
    "    \n",
    "# for tag in unique:\n",
    "#     print(tag)"
   ]
  },
  {
   "cell_type": "code",
   "execution_count": 19,
   "metadata": {},
   "outputs": [
    {
     "name": "stdout",
     "output_type": "stream",
     "text": [
      "{'type', 'parameter', 'block', 'if', 'if_stmt', 'body', 'operator', 'expr', 'specifier', 'literal', 'init', 'name', 'unit', 'parameter_list', 'decl', 'block_content', 'decl_stmt', 'condition', 'return', 'class', 'html', 'function'}\n"
     ]
    }
   ],
   "source": [
    "print(unique)"
   ]
  },
  {
   "cell_type": "code",
   "execution_count": null,
   "metadata": {},
   "outputs": [],
   "source": []
  }
 ],
 "metadata": {
  "kernelspec": {
   "display_name": "Python 3",
   "language": "python",
   "name": "python3"
  },
  "language_info": {
   "codemirror_mode": {
    "name": "ipython",
    "version": 3
   },
   "file_extension": ".py",
   "mimetype": "text/x-python",
   "name": "python",
   "nbconvert_exporter": "python",
   "pygments_lexer": "ipython3",
   "version": "3.8.10"
  },
  "orig_nbformat": 4
 },
 "nbformat": 4,
 "nbformat_minor": 2
}
