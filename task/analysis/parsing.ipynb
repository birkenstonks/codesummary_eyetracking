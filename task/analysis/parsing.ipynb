{
 "cells": [
  {
   "cell_type": "code",
   "execution_count": 7,
   "metadata": {},
   "outputs": [],
   "source": [
    "import os\n",
    "import subprocess"
   ]
  },
  {
   "cell_type": "code",
   "execution_count": 12,
   "metadata": {},
   "outputs": [
    {
     "name": "stdout",
     "output_type": "stream",
     "text": [
      "['getTargetServiceName_wrapped.java', 'removeRedundantOperations_wrapped.java', 'makeCenter_wrapped.java', 'testGetEvtIDs_wrapped.java', 'getScopePartnerLinks_wrapped.java', 'testCookieGreaterThan_wrapped.java', 'asMap_wrapped.java', 'visitRetStmt_wrapped.java', 'actionLoadNotes_wrapped.java', 'goToRegistration_wrapped.java', 'equals_wrapped.java', 'createChecklistItem_wrapped.java', 'readFromFile_wrapped.java', 'createNewServerProcess_wrapped.java', 'getUserNameFromCookie_wrapped.java', 'removeService_wrapped.java', 'getRodinDBStatus_wrapped.java', 'addToTechnicalComment_wrapped.java', 'removeView_wrapped.java', 'getRemoteObject_wrapped.java', 'getBackCommand22_wrapped.java', 'testSetExample_wrapped.java', 'documentLoadingCompleted_wrapped.java', 'testGetClassification_wrapped.java', 'markStart_wrapped.java', 'countQuery_wrapped.java', 'addDbArgs_wrapped.java', 'resolveValue_wrapped.java', 'genIdents_wrapped.java', 'invalidateSession_wrapped.java', 'getApplicableLaw_wrapped.java', 'toString_wrapped.java', 'setBinWidth_wrapped.java', 'BFSdist_wrapped.java', 'getAll_wrapped.java', 'checkDescendantM_wrapped.java', 'getNAGString_wrapped.java', 'handleHalt_wrapped.java', 'getFastestGenerator_wrapped.java', 'getCollaborateCollection_wrapped.java', 'jbInit_wrapped.java', 'appendDeclarations_wrapped.java', 'testAddCountryWithSequenceGenerator_wrapped.java', 'createCacheFile_wrapped.java', 'getImageWithSource_wrapped.java', 'setUrls_wrapped.java', 'searchRecipe_wrapped.java', 'getBackCommand2_wrapped.java', 'openNewContainerWindow_wrapped.java', 'setUpMrj_wrapped.java', 'setSelectedScript_wrapped.java', 'moveUpTarget_wrapped.java', 'getBackCommand25_wrapped.java', 'refreshTreePanel_wrapped.java', 'addErrors_wrapped.java', 'swapItems_wrapped.java', 'clone_wrapped.java', 'connectionErrorOccurred_wrapped.java', 'showLatestPlan_wrapped.java', 'setCombo_Value_wrapped.java', 'add_wrapped.java', 'getBackCommand12_wrapped.java', 'iamNear_wrapped.java', 'updateGain_wrapped.java', 'test_10_bug2689872_wrapped.java', 'setNamedItem_wrapped.java', 'loadSystems_wrapped.java', 'getGlobalElements_wrapped.java', 'resetSchedConflict_wrapped.java', 'compareTo_wrapped.java', 'print2_wrapped.java', 'clearFieldersFromField_wrapped.java', 'init2_wrapped.java', 'isInvalidEmailLink_wrapped.java', 'setTopAttributes_wrapped.java', 'joinTableRender_wrapped.java', 'wndPreferences_wrapped.java', 'getJSplitPane_wrapped.java', 'encode_wrapped.java', 'modifyRoleInCache_wrapped.java', 'exportXVRL_wrapped.java', 'setGenJarDir_wrapped.java', 'makeUniqueParagraphForGlobalWithLength_wrapped.java', 'initOptionsMenu_wrapped.java', 'getFiles_wrapped.java', 'pluginRegistryContains_wrapped.java', 'openCursor_wrapped.java', 'addDigit_wrapped.java', 'testGetCodigo_wrapped.java', 'fScore_wrapped.java', 'process_wrapped.java', 'onAttach_wrapped.java', 'testLogin_wrapped.java', 'populateNewList_wrapped.java', 'show_wrapped.java', 'addLimit_wrapped.java', 'createDataset_wrapped.java', 'testMoveRFWithNullContainer_wrapped.java', 'readResponse_wrapped.java', 'updateSchema_wrapped.java', 'indexToLetter_wrapped.java', 'close_wrapped.java', 'listen_wrapped.java', 'liesBetween_wrapped.java', 'go_wrapped.java', 'deleteCascade_wrapped.java', 'leaveAll_wrapped.java', 'tellAgain_wrapped.java', 'getStatusFlagFields_wrapped.java', 'createServerChooser_wrapped.java', 'print_wrapped.java', 'setButtonText_wrapped.java', 'store_wrapped.java', 'addUIDeployment_wrapped.java', 'split_wrapped.java', 'setPhoto_wrapped.java', 'addRotation_wrapped.java', 'play_wrapped.java', 'fetchString_wrapped.java', 'testOneTwoThreeCreateCycle_wrapped.java', 'getMenuAdministracion_wrapped.java', 'testNegativeParseCases_wrapped.java', 'exit_wrapped.java', 'draw_wrapped.java', 'doOutput_wrapped.java', 'testValidateSeparationCount_wrapped.java', 'getUnitCombo_wrapped.java', 'atomToExpression_wrapped.java', 'removeSelection_wrapped.java', 'testSetChkEvtID_wrapped.java', 'getEffect_wrapped.java', 'configBalanceRanking_wrapped.java', 'abstractMatrix3D_wrapped.java', 'load_wrapped.java', 'testOccThm_wrapped.java', 'iconify_wrapped.java', 'testInvoke_wrapped.java', 'genSql_wrapped.java', 'getInstitutions_wrapped.java', 'getConnectionPanel_wrapped.java', 'getOkCommand18_wrapped.java', 'evaluate_wrapped.java', 'getMessage_wrapped.java', 'addPKColumn_wrapped.java', 'testSetWelcomeMsg_wrapped.java', 'saveSetting_wrapped.java', 'messageSent_wrapped.java', 'selectBracketingEntries_wrapped.java', 'createGraphModel_wrapped.java', 'saveToFile_wrapped.java', 'testSetEvtID_wrapped.java', 'getRelFeedItems_wrapped.java', 'testGetEmail_wrapped.java', 'setSecurityMode_wrapped.java', 'getAllSourceRoots_wrapped.java', 'checkSetLayout_wrapped.java', 'saveCRCReply_wrapped.java', 'init_wrapped.java', 'capitalizeString_wrapped.java', 'addRelativeHeaders_wrapped.java', 'actionPerformed_wrapped.java', 'getClassNameForLookAndFeel_wrapped.java']\n"
     ]
    }
   ],
   "source": [
    "# imported from Zach's computer, where he (ChatGPT API) wrapped the java functions in class headers\n",
    "filedir = os.listdir(\"wrapped_functions\")"
   ]
  },
  {
   "cell_type": "code",
   "execution_count": 19,
   "metadata": {},
   "outputs": [],
   "source": [
    "# parsing each function with srcml\n",
    "for file in filedir:\n",
    "    infile = f\"wrapped_functions/{file}\"\n",
    "    outfile = f\"{infile[:-5]}.xml\"\n",
    "\n",
    "    subprocess.run([\"srcml\", infile, \"-o\", outfile])"
   ]
  },
  {
   "cell_type": "code",
   "execution_count": null,
   "metadata": {},
   "outputs": [],
   "source": []
  }
 ],
 "metadata": {
  "kernelspec": {
   "display_name": "Python 3",
   "language": "python",
   "name": "python3"
  },
  "language_info": {
   "codemirror_mode": {
    "name": "ipython",
    "version": 3
   },
   "file_extension": ".py",
   "mimetype": "text/x-python",
   "name": "python",
   "nbconvert_exporter": "python",
   "pygments_lexer": "ipython3",
   "version": "3.8.10"
  },
  "orig_nbformat": 4
 },
 "nbformat": 4,
 "nbformat_minor": 2
}
