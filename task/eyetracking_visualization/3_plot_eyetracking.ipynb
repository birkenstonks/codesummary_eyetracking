{
 "cells": [
  {
   "cell_type": "code",
   "execution_count": 1,
   "metadata": {},
   "outputs": [],
   "source": [
    "import numpy as np\n",
    "import os\n",
    "import cv2\n",
    "import re\n",
    "from matplotlib import pyplot as plt\n",
    "import pandas as pd\n",
    "from tqdm import tqdm\n",
    "os.chdir('./cap_string_test/')\n"
   ]
  },
  {
   "cell_type": "code",
   "execution_count": 2,
   "metadata": {},
   "outputs": [],
   "source": [
    "frame_dir = '11_27_test/'\n",
    "framelist = os.listdir('.')\n",
    "frame_out_dir = '../video_frames_out'\n",
    "framelen = len(framelist)\n",
    "framelist.sort()\n"
   ]
  },
  {
   "cell_type": "code",
   "execution_count": 3,
   "metadata": {},
   "outputs": [],
   "source": [
    "try:\n",
    "    os.mkdir(frame_out_dir)\n",
    "except:\n",
    "    pass\n",
    "\n",
    "csv_dir = '../../data/001/gaze/'\n",
    "csv_file = '001_gaze_capitalizeString_1412807.csv'\n"
   ]
  },
  {
   "cell_type": "code",
   "execution_count": 21,
   "metadata": {},
   "outputs": [
    {
     "name": "stdout",
     "output_type": "stream",
     "text": [
      "(8258, 13)\n"
     ]
    }
   ],
   "source": [
    "df = pd.read_csv(csv_dir + csv_file)\n",
    "df.columns = [\"pid\", \"function_name\", \"function_id\", \"system_timestamp\", \"device_timestamp\", \"valid_gaze_left\",\n",
    "              \"valid_gaze_right\", \"gaze_left\", \"gaze_right\", \"valid_pd_left\", \"valid_pd_right\", \"gaze_left\", \"gaze_right\"]\n",
    "\n",
    "dflen = len(df)\n",
    "df_valid = df[(df['valid_gaze_left'] == 1)]  # FIXME - column names\n",
    "df_valid = df[(df['valid_gaze_right'] == 1)]\n",
    "df_valid = df[(df['valid_pd_right'] == 1)]\n",
    "df_valid = df[(df['valid_pd_left'] == 1)]\n"
   ]
  },
  {
   "cell_type": "code",
   "execution_count": 27,
   "metadata": {},
   "outputs": [
    {
     "name": "stdout",
     "output_type": "stream",
     "text": [
      "height: 720\n",
      "width: 1280\n"
     ]
    }
   ],
   "source": [
    "img_path = os.getcwd() + '/' + framelist[0]\n",
    "\n",
    "img = cv2.imread(img_path)\n",
    "dimensions = img.shape\n",
    "# height, width, number of channels in image\n",
    "height = img.shape[0]\n",
    "width = img.shape[1]\n"
   ]
  },
  {
   "cell_type": "code",
   "execution_count": 51,
   "metadata": {},
   "outputs": [
    {
     "name": "stdout",
     "output_type": "stream",
     "text": [
      "3980.666945\n",
      "4050.236108\n",
      "69.569163\n"
     ]
    }
   ],
   "source": [
    "starttime = int(df_valid.iloc[0, 3])\n",
    "print(starttime/(10**6))\n",
    "\n",
    "endtime = int(df_valid.iloc[-1, 3])\n",
    "print(endtime/(10**6))\n",
    "#print(df_valid.shape)\n",
    "\n",
    "duration = endtime-starttime\n",
    "print(duration/(10**6))"
   ]
  },
  {
   "cell_type": "code",
   "execution_count": 36,
   "metadata": {},
   "outputs": [
    {
     "data": {
      "text/plain": [
       "1170"
      ]
     },
     "execution_count": 36,
     "metadata": {},
     "output_type": "execute_result"
    }
   ],
   "source": [
    "for file in framelist:\n",
    "    digits = re.findall('\\d+', file)\n",
    "    "
   ]
  },
  {
   "cell_type": "code",
   "execution_count": null,
   "metadata": {},
   "outputs": [],
   "source": [
    "def closest(lst, K):\n",
    "    return lst[min(range(len(lst)), key=lambda i: abs(lst[i]-K))]\n",
    "\n",
    "\n",
    "time_series = df['AdjustedTime']  # FIXME - column names and deltas\n",
    "valid_time_series = df_valid['AdjustedTime']  # FIXME - same as above\n"
   ]
  }
 ],
 "metadata": {
  "kernelspec": {
   "display_name": "Python 3.8.10 64-bit",
   "language": "python",
   "name": "python3"
  },
  "language_info": {
   "codemirror_mode": {
    "name": "ipython",
    "version": 3
   },
   "file_extension": ".py",
   "mimetype": "text/x-python",
   "name": "python",
   "nbconvert_exporter": "python",
   "pygments_lexer": "ipython3",
   "version": "3.8.10"
  },
  "orig_nbformat": 4,
  "vscode": {
   "interpreter": {
    "hash": "e7370f93d1d0cde622a1f8e1c04877d8463912d04d973331ad4851f04de6915a"
   }
  }
 },
 "nbformat": 4,
 "nbformat_minor": 2
}
