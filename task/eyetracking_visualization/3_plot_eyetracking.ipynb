{
 "cells": [
  {
   "cell_type": "code",
   "execution_count": 1,
   "metadata": {},
   "outputs": [],
   "source": [
    "import numpy as np\n",
    "import os\n",
    "import cv2\n",
    "import re\n",
    "from matplotlib import pyplot as plt\n",
    "import pandas as pd\n",
    "from tqdm import tqdm\n",
    "os.chdir('./cap_string_test/')\n"
   ]
  },
  {
   "cell_type": "code",
   "execution_count": 2,
   "metadata": {},
   "outputs": [],
   "source": [
    "frame_dir = '11_27_test/'\n",
    "framelist = os.listdir('.')\n",
    "frame_out_dir = '../video_frames_out'\n",
    "framelen = len(framelist)\n",
    "framelist.sort()\n"
   ]
  },
  {
   "cell_type": "code",
   "execution_count": 3,
   "metadata": {},
   "outputs": [],
   "source": [
    "try:\n",
    "    os.mkdir(frame_out_dir)\n",
    "except:\n",
    "    pass\n",
    "\n",
    "csv_dir = '../../data/001/gaze/'\n",
    "csv_file = '001_gaze_capitalizeString_1412807.csv'\n"
   ]
  },
  {
   "cell_type": "code",
   "execution_count": 4,
   "metadata": {},
   "outputs": [],
   "source": [
    "df = pd.read_csv(csv_dir + csv_file)\n",
    "df.columns = [\"pid\", \"function_name\", \"function_id\", \"system_timestamp\", \"device_timestamp\", \"valid_gaze_left\",\n",
    "              \"valid_gaze_right\", \"gaze_left\", \"gaze_right\", \"valid_pd_left\", \"valid_pd_right\", \"gaze_left\", \"gaze_right\"]\n",
    "\n",
    "dflen = len(df)\n",
    "df_valid = df[(df['valid_gaze_left'] == 1)]\n",
    "df_valid = df[(df['valid_gaze_right'] == 1)]\n",
    "df_valid = df[(df['valid_pd_right'] == 1)]\n",
    "df_valid = df[(df['valid_pd_left'] == 1)]\n"
   ]
  },
  {
   "cell_type": "code",
   "execution_count": 5,
   "metadata": {},
   "outputs": [],
   "source": [
    "img_path = os.getcwd() + '/' + framelist[0]\n",
    "\n",
    "img = cv2.imread(img_path)\n",
    "dimensions = img.shape\n",
    "# height, width, number of channels in image\n",
    "height = img.shape[0]\n",
    "width = img.shape[1]\n"
   ]
  },
  {
   "cell_type": "code",
   "execution_count": 6,
   "metadata": {},
   "outputs": [
    {
     "name": "stdout",
     "output_type": "stream",
     "text": [
      "3980.666945\n",
      "4050.236108\n",
      "69.569163\n"
     ]
    }
   ],
   "source": [
    "starttime = int(df_valid.iloc[0, 3]) # in microseconds\n",
    "print(starttime/(10**6))\n",
    "\n",
    "endtime = int(df_valid.iloc[-1, 3]) # in microseconds\n",
    "print(endtime/(10**6))\n",
    "#print(df_valid.shape)\n",
    "\n",
    "duration = endtime-starttime\n",
    "print(duration/(10**6))"
   ]
  },
  {
   "cell_type": "code",
   "execution_count": 13,
   "metadata": {},
   "outputs": [
    {
     "name": "stderr",
     "output_type": "stream",
     "text": [
      "/tmp/ipykernel_1638148/968775285.py:1: SettingWithCopyWarning: \n",
      "A value is trying to be set on a copy of a slice from a DataFrame.\n",
      "Try using .loc[row_indexer,col_indexer] = value instead\n",
      "\n",
      "See the caveats in the documentation: https://pandas.pydata.org/pandas-docs/stable/user_guide/indexing.html#returning-a-view-versus-a-copy\n",
      "  df_valid['adjusted_timestamp'] = df_valid.apply(lambda row: (row['system_timestamp'] - starttime)/(10**6)*30, axis=1)\n"
     ]
    }
   ],
   "source": [
    "df_valid['adjusted_timestamp'] = df_valid.apply(lambda row: (row['system_timestamp'] - starttime)/(10**6)*30, axis=1)\n",
    "df['adjusted_timestamp'] = df.apply(lambda row: (row['system_timestamp'] - starttime)/(10**6)*30, axis=1)\n"
   ]
  },
  {
   "cell_type": "code",
   "execution_count": 9,
   "metadata": {},
   "outputs": [],
   "source": [
    "for file in framelist:\n",
    "    digits = re.findall('\\d+', file)\n",
    "    #print(digits[2])\n",
    "    "
   ]
  },
  {
   "cell_type": "code",
   "execution_count": 15,
   "metadata": {},
   "outputs": [],
   "source": [
    "def closest(lst, K):\n",
    "    return lst[min(range(len(lst)), key=lambda i: abs(lst[i]-K))]\n",
    "\n",
    "\n",
    "time_series = df['adjusted_timestamp']\n",
    "valid_time_series = df_valid['adjusted_timestamp']\n"
   ]
  },
  {
   "cell_type": "code",
   "execution_count": 16,
   "metadata": {},
   "outputs": [],
   "source": [
    "# given the gaze vector, return the x/y position for the gaze point in open-cv video\n",
    "def return_x_y(gaze):\n",
    "    pattern = \"[()]\"\n",
    "    # FIXME - idk what gaze is here\n",
    "    new_gaze_string = re.sub(pattern, \"\", gaze)\n",
    "    xyz = new_gaze_string.split(',')\n",
    "    x = width/2*float(xyz[0])\n",
    "    y = height/2*float(xyz[1])\n",
    "    cv_x = round(width/2 + x)\n",
    "    cv_y = round(height/2 - y)\n",
    "    return cv_x, cv_y\n"
   ]
  },
  {
   "cell_type": "code",
   "execution_count": null,
   "metadata": {},
   "outputs": [],
   "source": [
    "\n",
    "for j in tqdm(framelist):\n",
    "    i = int(re.findall(\"\\d+\", j[0]))\n",
    "    img_path = os.getcwd() + '/video_frames/' + frame_dir + '/' + j\n",
    "    # time from the video\n",
    "    t = i/30\n",
    "    # time in raw data\n",
    "    t1 = closest(list)\n",
    "    t_index = list(time_series).index(t1)\n",
    "\n",
    "    if df['CombinedGazeRayWorldValid'][t_index] == True:  # FIXME - same thing\n",
    "        gaze_l = df['LeftGazeDirection'][t_index]\n",
    "        gaze_r = df['RightGazeDirection'][t_index]\n",
    "\n",
    "        gaze_origin_l = df['LeftGazeOrigin'][t_index]\n",
    "        gaze_origin_r = df['RightGazeOrigin'][t_index]\n",
    "\n",
    "        cv_x_l, cv_x_l = return_x_y(gaze_l)\n",
    "        cv_x_r, cv_x_r = return_x_y(gaze_r)\n",
    "\n",
    "        img = cv2.cv2.imread(img_path)\n",
    "        cv2.circle(img, (cv_x_l, cv_y_l), 20, (0, 255, 0), -1)\n",
    "        cv2.circle(img, (cv_x_r, cv_y_r), 20, (255, 0, 0), -1)\n",
    "        cv2.imwrite(frame_out_dir + '/' +\n",
    "                    re.findall(\"\\d+\", j)[0] + '.jpg', img)\n",
    "    else:\n",
    "        t_2 = closest(list(valid_time_series), t)\n",
    "\n",
    "        if abs(t_2 - t) <= 0.1:\n",
    "            t2_index = valid_time_series[valid_time_series == t_2].index[0]\n",
    "            gaze_l = df['LeftGazeDirection'][t2_index]\n",
    "            gaze_r = df['RightGazeDirection'][t2_index]\n",
    "\n",
    "            cv_x_l, cv_y_l = return_x_y(gaze_l)\n",
    "            cv_x_r, cv_y_r = return_x_y(gaze_r)\n",
    "\n",
    "            img = cv2.imread(img_path)\n",
    "            cv2.circle(img, (cv_x_l, cv_y_l), 20, (0, 255, 0), -1)\n",
    "            cv2.circle(img, (cv_x_r, cv_y_r), 20, (255, 0, 0), -1)\n",
    "            cv2.imwrite(frame_out_dir + '/' +\n",
    "                        re.findall(\"\\d+\", j)[0] + '.jpg', img)\n",
    "\n",
    "        else:\n",
    "            img = cv2.imread(img_path)\n",
    "            cv2.imwrite(frame_out_dir + '/' +\n",
    "                        re.findall('\\d+', j)[0] + '.jpg', img)\n"
   ]
  }
 ],
 "metadata": {
  "kernelspec": {
   "display_name": "Python 3.8.10 64-bit",
   "language": "python",
   "name": "python3"
  },
  "language_info": {
   "codemirror_mode": {
    "name": "ipython",
    "version": 3
   },
   "file_extension": ".py",
   "mimetype": "text/x-python",
   "name": "python",
   "nbconvert_exporter": "python",
   "pygments_lexer": "ipython3",
   "version": "3.8.10"
  },
  "orig_nbformat": 4,
  "vscode": {
   "interpreter": {
    "hash": "e7370f93d1d0cde622a1f8e1c04877d8463912d04d973331ad4851f04de6915a"
   }
  }
 },
 "nbformat": 4,
 "nbformat_minor": 2
}
