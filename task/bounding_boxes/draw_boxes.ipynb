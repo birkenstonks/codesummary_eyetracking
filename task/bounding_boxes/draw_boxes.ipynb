{
 "cells": [
  {
   "cell_type": "code",
   "execution_count": 3,
   "metadata": {},
   "outputs": [],
   "source": [
    "import os\n",
    "import cv2\n",
    "import re\n",
    "import numpy as np\n",
    "import pandas as pd\n",
    "os.environ['TF_CPP_MIN_LOG_LEVEL'] = '3'\n",
    "from matplotlib import pyplot as plt\n"
   ]
  },
  {
   "cell_type": "code",
   "execution_count": 3,
   "metadata": {},
   "outputs": [],
   "source": [
    "img = cv2.imread('./final_stimuli/add.png')\n",
    "img = img[100:1000, 10:1150]\n",
    "img2=img\n",
    "gray = cv2.cvtColor(img, cv2.COLOR_BGR2GRAY)\n",
    "filename = 'FIXME'\n",
    "# pipeline = keras_ocr.pipeline.Pipeline()\n",
    "# img2 = keras_ocr.tools.read(img2)\n",
    "# pred = pipeline.recognize([img2])\n"
   ]
  },
  {
   "cell_type": "code",
   "execution_count": 4,
   "metadata": {},
   "outputs": [
    {
     "name": "stdout",
     "output_type": "stream",
     "text": [
      "162\n"
     ]
    }
   ],
   "source": [
    "pics = os.listdir('./final_stimuli')\n",
    "print(len(pics))"
   ]
  },
  {
   "cell_type": "code",
   "execution_count": 6,
   "metadata": {},
   "outputs": [
    {
     "name": "stdout",
     "output_type": "stream",
     "text": [
      "162\n"
     ]
    }
   ],
   "source": [
    "stimdf = pd.read_csv('../stimuli/pruned_seeds2.csv')\n",
    "print(len(stimdf))"
   ]
  },
  {
   "cell_type": "code",
   "execution_count": 18,
   "metadata": {},
   "outputs": [
    {
     "data": {
      "text/plain": [
       "Index(['fid', 'name', 'ref', 'callcon', 'function'], dtype='object')"
      ]
     },
     "execution_count": 18,
     "metadata": {},
     "output_type": "execute_result"
    }
   ],
   "source": [
    "stimdf.columns"
   ]
  },
  {
   "cell_type": "code",
   "execution_count": 38,
   "metadata": {},
   "outputs": [
    {
     "name": "stdout",
     "output_type": "stream",
     "text": [
      "['public', 'String', 'getNAGString', '(', 'boolean', 'allNumeric', ')', '{', 'if', '(', 'nags', '==', 'null', ')', 'return', 'null;', 'StringBuilder', 'sb', '=', 'new', 'StringBuilder();', 'String', 'suff', '=', 'null;', 'int', 'count', '=', '0;', 'for', '(', 'int', 'i=0;', 'i', '<', 'nags.length;', 'i++', ')', '{', 'suff', '=', 'NAG.numberToString(', 'nags[i],', 'allNumeric', ');', 'if', '(', 'suff', '!=', 'null', ')', '{', 'if', '(', 'count++', '>', '0', ')', 'sb.append(\"', '\");', 'sb.append(', 'suff', ');', '}', '}', 'return', 'sb.toString();', '}']\n"
     ]
    }
   ],
   "source": [
    "## read through pngs and find corresponding function\n",
    "for pic in pics:\n",
    "    name = re.split('.png', pic)[0]\n",
    "    row = np.where(stimdf['name'] == name)\n",
    "    try:\n",
    "        i = row[0][0]\n",
    "        func = stimdf['function'][i]\n",
    "        split = re.split(\" |\\n\", func)\n",
    "        split = list(filter(None, split))\n",
    "        print(split)\n",
    "        \n",
    "    except:\n",
    "        print(\"-------------------------\")\n",
    "    \n",
    "    img = cv2.imread('./final_stimuli/{pic}'.format(pic=pic))\n",
    "    img = img[100:1000, 10:1150]\n",
    "    gray = cv2.cvtColor(img, cv2.COLOR_BGR2GRAY)\n",
    "    ret, thresh = cv2.threshold(gray, 0, 255, cv2.THRESH_OTSU | cv2.THRESH_BINARY_INV)\n",
    "    rect_kernel = cv2.getStructuringElement(cv2.MORPH_RECT, (8, 8))\n",
    "    dilation = cv2.dilate(thresh, rect_kernel, iterations=1)\n",
    "    contours, hierarchy = cv2.findContours(dilation, cv2.RETR_EXTERNAL, cv2.CHAIN_APPROX_NONE)\n",
    "    \n",
    "    for ii, box in enumerate(contours):\n",
    "        x, y, w, h = cv2.boundingRect(box)  # coordinates, width, and height\n",
    "        tangle = cv2.rectangle(img, (x, y), (x+w, y+h),\n",
    "                           (0, 255, 0, 2))  # drawing the rectangle\n",
    "        word_img = img[y+1:(y+1)+(h-1), x+1:(x+1)+(w-1)]\n",
    "        #print(word_img, split[ii])\n",
    "        #cv2.imwrite(\"./temp/{c}.png\".format(c=split[ii]), word_img)\n",
    "    cv2.imwrite(\"./temp/{c}.png\".format(c=name), img)\n",
    "    break\n",
    "    "
   ]
  },
  {
   "cell_type": "code",
   "execution_count": null,
   "metadata": {},
   "outputs": [],
   "source": []
  },
  {
   "cell_type": "code",
   "execution_count": 4,
   "metadata": {},
   "outputs": [
    {
     "name": "stdout",
     "output_type": "stream",
     "text": [
      "162\n",
      "162\n"
     ]
    }
   ],
   "source": [
    "func_dir = os.listdir('./final_stimuli/')\n",
    "lst = []\n",
    "for func in func_dir:\n",
    "    name = re.split('.png',func)[0]\n",
    "    #name2 = re.split('.png', func)\n",
    "    test = stims[stims['name'] == name]\n",
    "    lst.append(str(name))\n",
    "    #print(name)\n",
    "    #print(name)\n",
    "    #print(name, test['fid'].tolist())\n",
    "#print(len(lst))\n",
    "\n",
    "stimlist = []\n",
    "for func in stims['name']:\n",
    "    if func in stimlist:\n",
    "        print(func)\n",
    "    else:\n",
    "        stimlist.append(func)\n",
    "print(len(stimlist))\n",
    "print(len(lst))\n",
    "\n",
    "    \n",
    "    "
   ]
  },
  {
   "cell_type": "code",
   "execution_count": 31,
   "metadata": {},
   "outputs": [],
   "source": [
    "ret, thresh = cv2.threshold(\n",
    "    gray, 0, 255, cv2.THRESH_OTSU | cv2.THRESH_BINARY_INV)\n",
    "rect_kernel = cv2.getStructuringElement(cv2.MORPH_RECT, (8, 8))\n",
    "dilation = cv2.dilate(thresh, rect_kernel, iterations=1)\n",
    "contours, hierarchy = cv2.findContours(\n",
    "    dilation, cv2.RETR_EXTERNAL, cv2.CHAIN_APPROX_NONE)\n"
   ]
  },
  {
   "cell_type": "code",
   "execution_count": 33,
   "metadata": {},
   "outputs": [
    {
     "name": "stdout",
     "output_type": "stream",
     "text": [
      "65\n"
     ]
    }
   ],
   "source": [
    "print(len(contours))"
   ]
  },
  {
   "cell_type": "code",
   "execution_count": null,
   "metadata": {},
   "outputs": [],
   "source": [
    "### Use regex and original data\n"
   ]
  },
  {
   "cell_type": "code",
   "execution_count": 39,
   "metadata": {},
   "outputs": [
    {
     "name": "stdout",
     "output_type": "stream",
     "text": [
      "1/1 [==============================] - 1s 520ms/step\n",
      "1/1 [==============================] - 0s 76ms/step\n",
      "1/1 [==============================] - 0s 68ms/step\n",
      "truer\n",
      "1/1 [==============================] - 0s 74ms/step\n",
      "1/1 [==============================] - 0s 57ms/step\n",
      "return\n",
      "1/1 [==============================] - 0s 55ms/step\n",
      "1/1 [==============================] - 0s 56ms/step\n",
      "1/1 [==============================] - 0s 62ms/step\n",
      "1/1 [==============================] - 0s 55ms/step\n",
      "date\n",
      "1/1 [==============================] - 0s 121ms/step\n",
      "1/1 [==============================] - 0s 77ms/step\n",
      "dates\n",
      "addc\n",
      "1/1 [==============================] - 0s 42ms/step\n",
      "1/1 [==============================] - 0s 52ms/step\n",
      "1/1 [==============================] - 0s 68ms/step\n",
      "1/1 [==============================] - 0s 53ms/step\n",
      "ladded\n",
      "1/1 [==============================] - 0s 42ms/step\n",
      "1/1 [==============================] - 0s 56ms/step\n",
      "1/1 [==============================] - 0s 50ms/step\n",
      "if\n",
      "1/1 [==============================] - 0s 42ms/step\n",
      "1/1 [==============================] - 0s 40ms/step\n",
      "1/1 [==============================] - 0s 59ms/step\n",
      "1/1 [==============================] - 0s 55ms/step\n",
      "1/1 [==============================] - 0s 58ms/step\n",
      "truet\n",
      "1/1 [==============================] - 0s 69ms/step\n",
      "1/1 [==============================] - 0s 56ms/step\n",
      "added\n",
      "1/1 [==============================] - 0s 51ms/step\n",
      "1/1 [==============================] - 0s 66ms/step\n",
      "1/1 [==============================] - 0s 66ms/step\n",
      "date\n",
      "1/1 [==============================] - 0s 48ms/step\n",
      "1/1 [==============================] - 0s 48ms/step\n",
      "i1\n",
      "1/1 [==============================] - 0s 47ms/step\n",
      "1/1 [==============================] - 0s 64ms/step\n",
      "datess\n",
      "addo\n",
      "1/1 [==============================] - 0s 73ms/step\n",
      "1/1 [==============================] - 0s 58ms/step\n",
      "nextdate\n",
      "1/1 [==============================] - 0s 39ms/step\n",
      "1/1 [==============================] - 0s 56ms/step\n",
      "1/1 [==============================] - 0s 90ms/step\n",
      "1/1 [==============================] - 0s 71ms/step\n",
      "date\n",
      "before\n",
      "1/1 [==============================] - 0s 48ms/step\n",
      "1/1 [==============================] - 0s 58ms/step\n",
      "1/1 [==============================] - 0s 52ms/step\n",
      "if\n",
      "1/1 [==============================] - 0s 41ms/step\n",
      "1/1 [==============================] - 0s 48ms/step\n",
      "1/1 [==============================] - 0s 52ms/step\n",
      "nextdate\n",
      "1/1 [==============================] - 0s 55ms/step\n",
      "1/1 [==============================] - 0s 51ms/step\n",
      "date\n",
      "1/1 [==============================] - 0s 42ms/step\n",
      "1/1 [==============================] - 0s 59ms/step\n",
      "1/1 [==============================] - 0s 79ms/step\n",
      "1/1 [==============================] - 0s 88ms/step\n",
      "dates\n",
      "get\n",
      "c\n",
      "1/1 [==============================] - 0s 41ms/step\n",
      "1/1 [==============================] - 0s 52ms/step\n",
      "1/1 [==============================] - 0s 52ms/step\n",
      "1/1 [==============================] - 0s 55ms/step\n",
      "80\n",
      "1/1 [==============================] - 0s 56ms/step\n",
      "1/1 [==============================] - 0s 54ms/step\n",
      "o\n",
      "1/1 [==============================] - 0s 41ms/step\n",
      "1/1 [==============================] - 0s 42ms/step\n",
      "1/1 [==============================] - 0s 64ms/step\n",
      "1/1 [==============================] - 0s 54ms/step\n",
      "itt\n",
      "1/1 [==============================] - 0s 79ms/step\n",
      "1/1 [==============================] - 0s 55ms/step\n",
      "laddedp\n",
      "1/1 [==============================] - 0s 87ms/step\n",
      "1/1 [==============================] - 0s 68ms/step\n",
      "dates\n",
      "size\n",
      "1/1 [==============================] - 0s 41ms/step\n",
      "1/1 [==============================] - 0s 40ms/step\n",
      "1/1 [==============================] - 0s 56ms/step\n",
      "1/1 [==============================] - 0s 54ms/step\n",
      "int\n",
      "1/1 [==============================] - 0s 40ms/step\n",
      "1/1 [==============================] - 0s 43ms/step\n",
      "1/1 [==============================] - 0s 53ms/step\n",
      "for\n",
      "1/1 [==============================] - 0s 43ms/step\n",
      "1/1 [==============================] - 0s 72ms/step\n",
      "1/1 [==============================] - 0s 54ms/step\n",
      "falser\n",
      "1/1 [==============================] - 0s 45ms/step\n",
      "1/1 [==============================] - 0s 52ms/step\n",
      "added\n",
      "1/1 [==============================] - 0s 65ms/step\n",
      "1/1 [==============================] - 0s 54ms/step\n",
      "boolean\n",
      "1/1 [==============================] - 0s 68ms/step\n",
      "1/1 [==============================] - 0s 52ms/step\n",
      "return\n",
      "1/1 [==============================] - 0s 47ms/step\n",
      "1/1 [==============================] - 0s 56ms/step\n",
      "falser\n",
      "1/1 [==============================] - 0s 44ms/step\n",
      "1/1 [==============================] - 0s 46ms/step\n",
      "1/1 [==============================] - 0s 54ms/step\n",
      "date\n",
      "1/1 [==============================] - 0s 102ms/step\n",
      "1/1 [==============================] - 0s 66ms/step\n",
      "dates\n",
      "contains\n",
      "1/1 [==============================] - 0s 46ms/step\n",
      "1/1 [==============================] - 0s 53ms/step\n",
      "1/1 [==============================] - 0s 52ms/step\n",
      "if\n",
      "1/1 [==============================] - 0s 42ms/step\n",
      "1/1 [==============================] - 0s 54ms/step\n",
      "date\n",
      "1/1 [==============================] - 0s 52ms/step\n",
      "1/1 [==============================] - 0s 42ms/step\n",
      "1/1 [==============================] - 0s 44ms/step\n",
      "1/1 [==============================] - 0s 56ms/step\n",
      "date\n",
      "1/1 [==============================] - 0s 68ms/step\n",
      "1/1 [==============================] - 0s 53ms/step\n",
      "add\n",
      "1/1 [==============================] - 0s 65ms/step\n",
      "1/1 [==============================] - 0s 53ms/step\n",
      "boolean\n",
      "1/1 [==============================] - 0s 76ms/step\n",
      "1/1 [==============================] - 0s 71ms/step\n",
      "pub\n",
      "lic\n"
     ]
    }
   ],
   "source": [
    "for box in contours:\n",
    "\n",
    "    x, y, w, h = cv2.boundingRect(box)  # coordinates, width, and height\n",
    "    tangle = cv2.rectangle(img2, (x, y), (x+w, y+h),\n",
    "                           (0, 255, 0, 2))  # drawing the rectangle\n",
    "\n",
    "    # getting the word from the image\n",
    "    word_img = img2[y+1:(y+1)+(h-1), x+1:(x+1)+(w-1)]\n",
    "    img_jr = keras_ocr.tools.read(word_img)\n",
    "    pred = pipeline.recognize([img_jr])\n",
    "    pred_img = pred[0]\n",
    "    for text, box in pred_img:\n",
    "        print(text)\n",
    "    #plt.imshow(word_img)\n",
    "    # word_x = word_img.shape[1]\n",
    "    # word_y = word_img.shape[0]\n",
    "    # word_img2 = cv2.resize(word_img, (word_x * 4, word_y * 4))\n",
    "\n",
    "    # gray2 = cv2.cvtColor(word_img2, cv2.COLOR_BGR2GRAY)\n",
    "    # #gray2 = cv2.dilate(gray2, kernel, iterations=1)\n",
    "    # #gray2 = cv2.erode(gray2, kernel=kernel, iterations=2)\n",
    "    # sharp = cv2.filter2D(src=gray2, ddepth=-1, kernel=kernel)\n",
    "    # blur = cv2.bilateralFilter(sharp, 9, 75, 75)\n",
    "\n",
    "    # ret1, thresh1 = cv2.threshold(blur, 180, 255, cv2.THRESH_BINARY)\n",
    "    # #word_img2 = cv2.GaussianBlur(gray2, (5, 5), 0)\n",
    "\n",
    "    # cv2.imwrite(\"./temp/{c}.png\".format(c=c), thresh1)\n",
    "    # #cv2.imwrite(\"./temp/{c}.png\".format(c=c), thresh1)\n",
    "    # #word = \"word{c}\".format(c=c)\n",
    "    # word = pytesseract.image_to_string(thresh1)\n",
    "\n",
    "    # test.append(word)\n",
    "    # c += 1\n"
   ]
  },
  {
   "cell_type": "code",
   "execution_count": 37,
   "metadata": {},
   "outputs": [
    {
     "name": "stdout",
     "output_type": "stream",
     "text": [
      "public\n",
      "boolean\n",
      "addc\n",
      "date\n",
      "date\n",
      "t\n",
      "d\n",
      "if\n",
      "date\n",
      "datess\n",
      "contains\n",
      "d\n",
      "falset\n",
      "return\n",
      "boolean\n",
      "added\n",
      "falser\n",
      "e\n",
      "int\n",
      "i\n",
      "size\n",
      "laddedf\n",
      "itt\n",
      "for\n",
      "ot\n",
      "i\n",
      "dates\n",
      "o\n",
      "80\n",
      "dr\n",
      "e\n",
      "s\n",
      "date\n",
      "nextdate\n",
      "datesl\n",
      "getc\n",
      "i\n",
      "di\n",
      "t\n",
      "if\n",
      "date\n",
      "beforel\n",
      "nextdate\n",
      "dd\n",
      "l\n",
      "dates\n",
      "addc\n",
      "date\n",
      "11\n",
      "di\n",
      "added\n",
      "truet\n",
      "t\n",
      "ladded\n",
      "if\n",
      "c\n",
      "d\n",
      "dates\n",
      "addo\n",
      "date\n",
      "di\n",
      "return\n",
      "truer\n"
     ]
    }
   ],
   "source": [
    "pred_img = pred[0]\n",
    "for text, box in pred_img:\n",
    "    print(text)\n"
   ]
  },
  {
   "cell_type": "code",
   "execution_count": 29,
   "metadata": {},
   "outputs": [
    {
     "name": "stdout",
     "output_type": "stream",
     "text": [
      "1\n"
     ]
    }
   ],
   "source": [
    "print(len(pred))\n"
   ]
  },
  {
   "cell_type": "code",
   "execution_count": 30,
   "metadata": {},
   "outputs": [
    {
     "name": "stdout",
     "output_type": "stream",
     "text": [
      "public\n",
      "boolean\n",
      "addc\n",
      "date\n",
      "date\n",
      "t\n",
      "d\n",
      "if\n",
      "date\n",
      "datess\n",
      "contains\n",
      "d\n",
      "falset\n",
      "return\n",
      "boolean\n",
      "added\n",
      "falser\n",
      "e\n",
      "int\n",
      "i\n",
      "size\n",
      "laddedf\n",
      "itt\n",
      "for\n",
      "ot\n",
      "i\n",
      "dates\n",
      "o\n",
      "80\n",
      "dr\n",
      "e\n",
      "s\n",
      "date\n",
      "nextdate\n",
      "datesl\n",
      "getc\n",
      "i\n",
      "di\n",
      "t\n",
      "if\n",
      "date\n",
      "beforel\n",
      "nextdate\n",
      "dd\n",
      "l\n",
      "dates\n",
      "addc\n",
      "date\n",
      "11\n",
      "di\n",
      "added\n",
      "truet\n",
      "t\n",
      "ladded\n",
      "if\n",
      "c\n",
      "d\n",
      "dates\n",
      "addo\n",
      "date\n",
      "di\n",
      "return\n",
      "truer\n"
     ]
    }
   ],
   "source": [
    "pred_img = pred[0]\n",
    "for text, box in pred_img:\n",
    "    print(text)\n"
   ]
  },
  {
   "cell_type": "code",
   "execution_count": null,
   "metadata": {},
   "outputs": [],
   "source": []
  }
 ],
 "metadata": {
  "kernelspec": {
   "display_name": "Python 3",
   "language": "python",
   "name": "python3"
  },
  "language_info": {
   "codemirror_mode": {
    "name": "ipython",
    "version": 3
   },
   "file_extension": ".py",
   "mimetype": "text/x-python",
   "name": "python",
   "nbconvert_exporter": "python",
   "pygments_lexer": "ipython3",
   "version": "3.8.10"
  },
  "orig_nbformat": 4
 },
 "nbformat": 4,
 "nbformat_minor": 2
}
