{
 "cells": [
  {
   "cell_type": "code",
   "execution_count": 2,
   "id": "ad6588b6-488a-4f23-932a-ecd91907bc64",
   "metadata": {
    "tags": []
   },
   "outputs": [],
   "source": [
    "import os\n",
    "import re\n",
    "import csv\n",
    "import statistics\n",
    "import pandas as pd\n",
    "import numpy as np\n",
    "import geopandas as gpd\n",
    "from shapely.geometry import Point, Polygon"
   ]
  },
  {
   "cell_type": "code",
   "execution_count": 3,
   "id": "d3aa527f-be87-46fe-93fb-56070b0df830",
   "metadata": {
    "tags": []
   },
   "outputs": [],
   "source": [
    "# test files for one participant and one gaze file\n",
    "eye_files = os.listdir('../../../../code_summ_data/168/gaze')\n",
    "eye_files = os.listdir('../../../../code_summ_data/182/gaze')\n",
    "#eye_filename = '../../../../code_summ_data/168/gaze/168_gaze_reading_createServerChooser.csv'\n",
    "#eye_filename = '../../../../code_summ_data/168/gaze/168_gaze_writing_BFSdist.csv'\n",
    "eye_filename = '../../../../code_summ_data/182/gaze/182_gaze_reading_addDigit.csv'\n",
    "eye_file = pd.read_csv(eye_filename)"
   ]
  },
  {
   "cell_type": "code",
   "execution_count": 4,
   "id": "c26ad344-1b98-4267-80eb-afd0c656fc13",
   "metadata": {
    "tags": []
   },
   "outputs": [
    {
     "name": "stdout",
     "output_type": "stream",
     "text": [
      "(11897, 17)\n"
     ]
    }
   ],
   "source": [
    "# resetting column names\n",
    "print(eye_file.shape)\n",
    "num_cols = len(eye_file.columns)\n",
    "if num_cols == 13:\n",
    "    eye_file.columns = ['participant_id', 'function_name', 'function_id', 'system_timestamp', 'device_timestamp', 'valid_gaze_left',\n",
    "                        'valid_gaze_right', 'gaze_left_eye', 'gaze_right_eye', 'valid_pd_left', 'valid_pd_right', 'pd_left', 'pd_right']\n",
    "elif num_cols == 17:\n",
    "    eye_file.columns = ['participant_id', 'function_name', 'function_fid', 'system_timestamp', 'device_timestamp', 'valid_gaze_left', 'valid_gaze_right', 'gaze_left_eye', 'gaze_right_eye',\n",
    "                         'valid_pd_left', 'valid_pd_right', 'pd_left', 'pd_right', 'irl_left_eye_coordinates', 'irl_right_eye_coordinates', 'irl_left_point_on_screen', 'irl_right_point_on_screen']\n",
    "else:\n",
    "    print(\"weird column length\")\n"
   ]
  },
  {
   "cell_type": "code",
   "execution_count": 17,
   "id": "1d91a37b",
   "metadata": {},
   "outputs": [],
   "source": [
    "height = 1080\n",
    "width = 1920\n",
    "\n",
    "\n",
    "def normalize_coordinates(x, y, w, h):\n",
    "    x /= width\n",
    "    y /= height\n",
    "    w /= width\n",
    "    h /= height\n",
    "    return x, y, w, h\n"
   ]
  },
  {
   "cell_type": "code",
   "execution_count": 36,
   "id": "113ec9ea-7b8a-4941-ae97-b5f7c4f31bc0",
   "metadata": {
    "tags": []
   },
   "outputs": [],
   "source": [
    "#ref = pd.read_csv('./word_coordinates_final/createServerChooser_boxes.csv') # reading in bounding boxes\n",
    "ref = pd.read_csv('./word_coordinates_final/addDigit_boxes.csv')\n",
    "boxes = pd.DataFrame()\n",
    "\n",
    "for i in range(len(ref)): # creating shapes for each word in the file\n",
    "    x = ref.loc[i, 'tobii_x']\n",
    "    y = ref.loc[i, 'tobii_y']\n",
    "    w = ref.loc[i, 'tobii_width']\n",
    "    h = ref.loc[i, 'tobii_height']\n",
    "    word = '{word}.{num}'.format(word=ref.loc[i, 'word'], num=ref.loc[i, 'occurrence'])\n",
    "    # Creating a shape for each word based on its coordinates\n",
    "    new_tangle = pd.Series({word: Polygon([(x, y), (x+w, y), (x, y+h), (x+w, y+h)])}) \n",
    "    boxes = pd.concat([boxes, new_tangle]) # adding this to a new data structure "
   ]
  },
  {
   "cell_type": "code",
   "execution_count": 37,
   "id": "1334fcd5",
   "metadata": {},
   "outputs": [
    {
     "name": "stdout",
     "output_type": "stream",
     "text": [
      "6\n"
     ]
    }
   ],
   "source": [
    "aois = [(0,    85, 1160, 975),  # code\n",
    "        (1175, 200, 700, 125),  # prewritten summary\n",
    "        (1175, 450, 600, 100),  # 'accurate' question\n",
    "        (1175, 550, 600, 150),  # 'missing' question\n",
    "        (1175, 725, 600, 100),  # 'unnecessary' question\n",
    "        (1175, 825, 600, 125),  # 'readable' question\n",
    "        (1175, 85,  720, 300)]  # participant summary\n",
    "\n",
    "tobii_aois = []\n",
    "aoi_names = ['code', 'prewritten', 'accurate', 'missing', 'unnecessary', 'readable', 'participant_summary']\n",
    "for box in aois:\n",
    "        x, y, w, h = normalize_coordinates(box[0], box[1], box[2], box[3])\n",
    "        tobii_aois.append((x, y, w, h))\n",
    "print(len(tobii_aois))\n",
    "# x, y, w, h = normalize_coordinates(1175, 450, 600, 100)\n",
    "# print(x, y, w, h)"
   ]
  },
  {
   "cell_type": "code",
   "execution_count": 38,
   "id": "e35b8fb1-b464-45f3-ab49-c5a48c00763b",
   "metadata": {
    "tags": []
   },
   "outputs": [],
   "source": [
    "if re.search('reading', eye_filename):\n",
    "    for i in range(5):\n",
    "        x = tobii_aois[i][0] \n",
    "        y = tobii_aois[i][1]\n",
    "        w = tobii_aois[i][2]\n",
    "        h = tobii_aois[i][3]\n",
    "        new_tangle = pd.Series({aoi_names[i]: Polygon([(x, y), (x+w, y), (x, y+h), (x+w, y+h)])})\n",
    "        boxes = pd.concat([boxes, new_tangle])\n",
    "        \n",
    "elif re.search('writing', eye_filename):\n",
    "    x = tobii_aois[5][0]\n",
    "    y = tobii_aois[5][1]\n",
    "    w = tobii_aois[5][2]\n",
    "    h = tobii_aois[5][3]\n",
    "    new_tangle = pd.Series({\"participant_summary\": Polygon([(x, y), (x+w, y), (x, y+h), (x+w, y+h)])})\n",
    "    boxes = pd.concat([boxes, new_tangle])\n",
    "    \n",
    "    \n",
    "gpd_boxes = gpd.GeoSeries(boxes[0]) # data structure of boxes"
   ]
  },
  {
   "cell_type": "code",
   "execution_count": 39,
   "id": "198a3712",
   "metadata": {},
   "outputs": [
    {
     "name": "stdout",
     "output_type": "stream",
     "text": [
      "                                                                0\n",
      "private.0       POLYGON ((0.0114583333333333 0.125, 0.05312499...\n",
      "void.0          POLYGON ((0.0557291666666666 0.125, 0.08072916...\n",
      "addDigit.0      POLYGON ((0.084375 0.125, 0.1359375 0.125, 0.0...\n",
      "char.0          POLYGON ((0.140625 0.125, 0.1651041666666666 0...\n",
      "digit.0         POLYGON ((0.16875 0.125, 0.1989583333333333 0....\n",
      "if.0            POLYGON ((0.0333333333333333 0.15, 0.047395833...\n",
      "digit.1         POLYGON ((0.0614583333333333 0.15, 0.091666666...\n",
      "==.0            POLYGON ((0.0953125 0.15, 0.109375 0.15, 0.095...\n",
      "0'.0            POLYGON ((0.1140625 0.15, 0.1302083333333333 0...\n",
      "&&.0            POLYGON ((0.134375 0.15, 0.1489583333333333 0....\n",
      "value.equals.0  POLYGON ((0.1515625 0.15, 0.2260416666666666 0...\n",
      "\"0\".0           POLYGON ((0.23125 0.15, 0.2489583333333333 0.1...\n",
      "return.0        POLYGON ((0.2703125 0.15, 0.3104166666666666 0...\n",
      "if.1            POLYGON ((0.0333333333333333 0.175, 0.04739583...\n",
      "value.equals.1  POLYGON ((0.0614583333333333 0.175, 0.13593749...\n",
      "\"0\".1           POLYGON ((0.1411458333333333 0.175, 0.15885416...\n",
      "value.0         POLYGON ((0.1796875 0.175, 0.2104166666666666 ...\n",
      "=.0             POLYGON ((0.2135416666666666 0.175, 0.22187499...\n",
      "\"\".0            POLYGON ((0.2255208333333333 0.175, 0.24270833...\n",
      "if.2            POLYGON ((0.0333333333333333 0.2, 0.0473958333...\n",
      "update.0        POLYGON ((0.0619791666666666 0.2, 0.0979166666...\n",
      "value.1         POLYGON ((0.0557291666666666 0.225, 0.08697916...\n",
      "=.1             POLYGON ((0.0895833333333333 0.225, 0.09791666...\n",
      "\"\".1            POLYGON ((0.1015625 0.225, 0.11875 0.225, 0.10...\n",
      "minus.0         POLYGON ((0.0557291666666666 0.25, 0.086458333...\n",
      "=.2             POLYGON ((0.0895833333333333 0.25, 0.097916666...\n",
      "false.0         POLYGON ((0.1010416666666666 0.25, 0.135937499...\n",
      "comma.0         POLYGON ((0.05625 0.275, 0.0869791666666666 0....\n",
      "=.3             POLYGON ((0.0895833333333333 0.275, 0.09791666...\n",
      "false.1         POLYGON ((0.1010416666666666 0.275, 0.13593749...\n",
      "update.1        POLYGON ((0.0338541666666666 0.325, 0.06979166...\n",
      "=.4             POLYGON ((0.0729166666666666 0.325, 0.08124999...\n",
      "false.2         POLYGON ((0.084375 0.325, 0.11875 0.325, 0.084...\n",
      "value.2         POLYGON ((0.0333333333333333 0.35, 0.064062499...\n",
      "+=.0            POLYGON ((0.0671875 0.35, 0.08125 0.35, 0.0671...\n",
      "digit.2         POLYGON ((0.084375 0.35, 0.11875 0.35, 0.08437...\n",
      "showValue.0     POLYGON ((0.0338541666666666 0.375, 0.10208333...\n",
      "prewritten      POLYGON ((0.6119791666666666 0.185185185185185...\n",
      "accurate        POLYGON ((0.6119791666666666 0.416666666666666...\n",
      "missing         POLYGON ((0.6119791666666666 0.509259259259259...\n",
      "unnecessary     POLYGON ((0.6119791666666666 0.671296296296296...\n",
      "readable        POLYGON ((0.6119791666666666 0.763888888888888...\n"
     ]
    }
   ],
   "source": [
    "print(boxes)"
   ]
  },
  {
   "cell_type": "code",
   "execution_count": 40,
   "id": "df836065-dc92-4b0d-88aa-dc8975ebafba",
   "metadata": {
    "tags": []
   },
   "outputs": [],
   "source": [
    "#newfile = '168_localizing_gaze_test_createServerChooser.csv'\n",
    "newfile = '182_localizing_gaze_test_reading_addDigit.csv'\n",
    "new_eye_df = pd.DataFrame()\n",
    "\n",
    "for i in range(len(eye_file)): # iterating through eyetracking file and localizing gaze to a shape\n",
    "    gaze_left = eye_file.loc[i, 'gaze_left_eye']\n",
    "    gaze_right = eye_file.loc[i, 'gaze_right_eye']\n",
    "    temp_left = re.split(r'[(,\\)]', gaze_left) # tuple is a string, so using regex to get the numbers\n",
    "    temp_right = re.split(r'[(,\\)]', gaze_right)\n",
    "    # averaging right and left gaze points for one gaze point\n",
    "    gaze_point = (statistics.fmean([float(temp_left[1]), float(temp_right[1])]), \n",
    "                 statistics.fmean([float(temp_left[2]), float(temp_right[2])]))\n",
    "    if pd.isna(gaze_point[0]) or pd.isna(gaze_point[1]): # if either eye is invalid\n",
    "        continue\n",
    "    else:\n",
    "        gaze_point = [Point(gaze_point[0], gaze_point[1])]\n",
    "    pnts = gpd.GeoDataFrame(geometry=gaze_point)\n",
    "    \n",
    "    # confusing, but basically this below line returns false/true whether the point is in a shape\n",
    "    pnts = pnts.assign(**{key: pnts.within(geom) for key, geom in gpd_boxes.items()}) \n",
    "    temp = pd.DataFrame(pnts)\n",
    "    temp = temp.replace({True : 1, False : ''})\n",
    "    #temp.to_csv('168_localizing_gaze_test_createServerChooser.csv')\n",
    "    old_row = eye_file.loc[i, :]\n",
    "    new_row = pd.concat([old_row, temp.T]) # adding this true/false information to the original row\n",
    "    new_eye_df = pd.concat([new_eye_df, new_row], axis=1)\n",
    "new_eye_df = new_eye_df.T\n",
    "new_eye_df.to_csv(newfile)"
   ]
  },
  {
   "cell_type": "code",
   "execution_count": null,
   "id": "f5a8ee07",
   "metadata": {},
   "outputs": [],
   "source": []
  }
 ],
 "metadata": {
  "kernelspec": {
   "display_name": "Python 3 (ipykernel)",
   "language": "python",
   "name": "python3"
  },
  "language_info": {
   "codemirror_mode": {
    "name": "ipython",
    "version": 3
   },
   "file_extension": ".py",
   "mimetype": "text/x-python",
   "name": "python",
   "nbconvert_exporter": "python",
   "pygments_lexer": "ipython3",
   "version": "3.8.10"
  }
 },
 "nbformat": 4,
 "nbformat_minor": 5
}
