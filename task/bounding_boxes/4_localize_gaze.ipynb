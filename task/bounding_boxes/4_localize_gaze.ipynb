{
 "cells": [
  {
   "cell_type": "code",
   "execution_count": 98,
   "id": "ad6588b6-488a-4f23-932a-ecd91907bc64",
   "metadata": {
    "tags": []
   },
   "outputs": [],
   "source": [
    "import os\n",
    "import re\n",
    "import csv\n",
    "import statistics\n",
    "import pandas as pd\n",
    "import numpy as np\n",
    "import geopandas as gpd\n",
    "from shapely.geometry import Point, Polygon"
   ]
  },
  {
   "cell_type": "code",
   "execution_count": 6,
   "id": "d3aa527f-be87-46fe-93fb-56070b0df830",
   "metadata": {
    "tags": []
   },
   "outputs": [],
   "source": [
    "# test files for one participant and one gaze file\n",
    "eye_files = os.listdir('../data/168/gaze')\n",
    "eye_file = pd.read_csv('../data/168/gaze/168_gaze_reading_createServerChooser.csv')"
   ]
  },
  {
   "cell_type": "code",
   "execution_count": 89,
   "id": "113ec9ea-7b8a-4941-ae97-b5f7c4f31bc0",
   "metadata": {
    "tags": []
   },
   "outputs": [],
   "source": [
    "ref = pd.read_csv('./word_coordinates_final/createServerChooser_boxes.csv') # reading in bounding boxes\n",
    "boxes = pd.DataFrame()\n",
    "\n",
    "for i in range(len(ref)): # creating shapes for each word in the file\n",
    "    x = ref.loc[i, 'tobii_x']\n",
    "    y = ref.loc[i, 'tobii_y']\n",
    "    w = ref.loc[i, 'tobii_width']\n",
    "    h = ref.loc[i, 'tobii_height']\n",
    "    word = '{word}.{num}'.format(word=ref.loc[i, 'word'], num=ref.loc[i, 'occurrence'])\n",
    "    # Creating a shape for each word based on its coordinates\n",
    "    new_tangle = pd.Series({word: Polygon([(x, y), (x+w, y), (x, y+h), (x+w, y+h)])}) \n",
    "    boxes = pd.concat([boxes, new_tangle]) # adding this to a new data structure "
   ]
  },
  {
   "cell_type": "code",
   "execution_count": 19,
   "id": "c26ad344-1b98-4267-80eb-afd0c656fc13",
   "metadata": {
    "tags": []
   },
   "outputs": [],
   "source": [
    "# resetting column names\n",
    "eye_file.columns = ['participant_id', 'function_name', 'function_id', 'system_timestamp', 'device_timestamp', 'valid_gaze_left', 'valid_gaze_right', 'gaze_left_eye', 'gaze_right_eye', 'valid_pd_left', 'valid_pd_right', 'gaze_left', 'gaze_right']"
   ]
  },
  {
   "cell_type": "code",
   "execution_count": 111,
   "id": "e35b8fb1-b464-45f3-ab49-c5a48c00763b",
   "metadata": {
    "tags": []
   },
   "outputs": [
    {
     "name": "stdout",
     "output_type": "stream",
     "text": [
      "public.0                     POLYGON ((0.01146 0.12500, 0.04740 0.12500, 0....\n",
      "void.0                       POLYGON ((0.05000 0.12500, 0.07500 0.12500, 0....\n",
      "createServerChooser.0        POLYGON ((0.07865 0.12500, 0.19844 0.12500, 0....\n",
      "MainMenuBar.0                POLYGON ((0.03333 0.15000, 0.09792 0.15000, 0....\n",
      "mainMenuBar.0                POLYGON ((0.10104 0.15000, 0.16510 0.15000, 0....\n",
      "=.0                          POLYGON ((0.16823 0.15000, 0.17656 0.15000, 0....\n",
      "MainMenuBar.getInstance.0    POLYGON ((0.17969 0.15000, 0.32708 0.15000, 0....\n",
      "int.0                        POLYGON ((0.03333 0.20000, 0.05260 0.20000, 0....\n",
      "nodeId.0                     POLYGON ((0.05625 0.20000, 0.09219 0.20000, 0....\n",
      "=.1                          POLYGON ((0.09531 0.20000, 0.10365 0.20000, 0....\n",
      "dbMgr.getNodeId.0            POLYGON ((0.10677 0.20000, 0.20365 0.20000, 0....\n",
      "String.0                     POLYGON ((0.20781 0.20000, 0.24375 0.20000, 0....\n",
      "cbNE.getSelectedItem.0       POLYGON ((0.25833 0.20000, 0.39479 0.20000, 0....\n",
      "DownloadFileChooser.0        POLYGON ((0.03385 0.25000, 0.14271 0.25000, 0....\n",
      "downloadFile.0               POLYGON ((0.14583 0.25000, 0.21615 0.25000, 0....\n",
      "=.2                          POLYGON ((0.21927 0.25000, 0.22760 0.25000, 0....\n",
      "new.0                        POLYGON ((0.23073 0.25000, 0.25052 0.25000, 0....\n",
      "DownloadFileChooser.1        POLYGON ((0.25312 0.25000, 0.36667 0.25000, 0....\n",
      "nodeId.1                     POLYGON ((0.37135 0.25000, 0.41094 0.25000, 0....\n",
      "DBDatadesc.SHELF_OLT1.0      POLYGON ((0.41615 0.25000, 0.54062 0.25000, 0....\n",
      "tfFileName.0                 POLYGON ((0.01146 0.27500, 0.07344 0.27500, 0....\n",
      "tfFileNameOnly.0             POLYGON ((0.07865 0.27500, 0.15990 0.27500, 0....\n",
      "mainMenuBar.putCommand.0     POLYGON ((0.03333 0.32500, 0.16979 0.32500, 0....\n",
      "Object.0                     POLYGON ((0.17396 0.32500, 0.20990 0.32500, 0....\n",
      "downloadFile.1               POLYGON ((0.22500 0.32500, 0.29479 0.32500, 0....\n",
      "downloadFile.setViewId.0     POLYGON ((0.03333 0.35000, 0.16406 0.35000, 0....\n",
      "mainMenuBar.getViewId.0      POLYGON ((0.16823 0.35000, 0.29948 0.35000, 0....\n",
      "downloadFile.setVisible.0    POLYGON ((0.03333 0.37500, 0.16979 0.37500, 0....\n",
      "true.0                       POLYGON ((0.17448 0.37500, 0.19948 0.37500, 0....\n",
      "Name: 0, dtype: geometry\n"
     ]
    }
   ],
   "source": [
    "test = gpd.GeoSeries(boxes[0]) # temp name for data structure of boxes"
   ]
  },
  {
   "cell_type": "code",
   "execution_count": 153,
   "id": "df836065-dc92-4b0d-88aa-dc8975ebafba",
   "metadata": {
    "tags": []
   },
   "outputs": [],
   "source": [
    "newfile = '168_localizing_gaze_test_createServerChooser.csv'\n",
    "new_eye_df = pd.DataFrame()\n",
    "\n",
    "for i in range(len(eye_file)): # iterating through eyetracking file and localizing gaze to a shape\n",
    "    gaze_left = eye_file.loc[i, 'gaze_left_eye']\n",
    "    gaze_right = eye_file.loc[i, 'gaze_right_eye']\n",
    "    temp_left = re.split(r'[(,\\)]', gaze_left) # tuple is a string, so using regex to get the numbers\n",
    "    temp_right = re.split(r'[(,\\)]', gaze_right)\n",
    "    # averaging right and left gaze points for one gaze point\n",
    "    gaze_point = (statistics.fmean([float(temp_left[1]), float(temp_right[1])]), \n",
    "                 statistics.fmean([float(temp_left[2]), float(temp_right[2])]))\n",
    "    if pd.isna(gaze_point[0]) or pd.isna(gaze_point[1]): # if either eye is invalid\n",
    "        continue\n",
    "    else:\n",
    "        gaze_point = [Point(gaze_point[0], gaze_point[1])]\n",
    "    pnts = gpd.GeoDataFrame(geometry=gaze_point)\n",
    "    \n",
    "    # confusing, but basically this below line returns false/true whether the point is in a shape\n",
    "    pnts = pnts.assign(**{key: pnts.within(geom) for key, geom in test.items()}) \n",
    "    temp = pd.DataFrame(pnts)\n",
    "    #temp.to_csv('168_localizing_gaze_test_createServerChooser.csv')\n",
    "    old_row = eye_file.loc[i, :]\n",
    "    new_row = pd.concat([old_row, temp.T]) # adding this true/false information to the original row\n",
    "    new_eye_df = pd.concat([new_eye_df, new_row], axis=1)\n",
    "new_eye_df = new_eye_df.T\n",
    "new_eye_df.to_csv(newfile)"
   ]
  },
  {
   "cell_type": "code",
   "execution_count": null,
   "id": "f5db899f-43cc-447a-9ae4-c601848cd300",
   "metadata": {},
   "outputs": [],
   "source": [
    "\n",
    "#From ChatGPT\n",
    "new_eye_df = pd.DataFrame()\n",
    "\n",
    "for i, row in eye_file.iterrows():\n",
    "    gaze_left = row['gaze_left_eye']\n",
    "    gaze_right = row['gaze_right_eye']\n",
    "    temp_left = [float(x) for x in re.findall(r'\\d+\\.\\d+', gaze_left)]\n",
    "    temp_right = [float(x) for x in re.findall(r'\\d+\\.\\d+', gaze_right)]\n",
    "\n",
    "    gaze_point = ((temp_left[0] + temp_right[0]) / 2,\n",
    "                  (temp_left[1] + temp_right[1]) / 2)\n",
    "    \n",
    "    if pd.isnull(gaze_point[0]) or pd.isnull(gaze_point[1]):\n",
    "        continue\n",
    "    else:\n",
    "        gaze_point = [Point(gaze_point[0], gaze_point[1])]\n",
    "    \n",
    "    pnts = gpd.GeoDataFrame(geometry=gaze_point)\n",
    "    pnts = pnts.assign(**{key: pnts.within(geom) for key, geom in test.items()})\n",
    "    temp = pd.DataFrame(pnts)\n",
    "    new_row = row.join(temp.T)\n",
    "    new_eye_df = new_eye_df.append(new_row)\n",
    "\n",
    "new_eye_df = new_eye_df.reset_index(drop=True)\n",
    "new_eye_df.to_csv(newfile, index=False)"
   ]
  }
 ],
 "metadata": {
  "kernelspec": {
   "display_name": "Python 3 (ipykernel)",
   "language": "python",
   "name": "python3"
  },
  "language_info": {
   "codemirror_mode": {
    "name": "ipython",
    "version": 3
   },
   "file_extension": ".py",
   "mimetype": "text/x-python",
   "name": "python",
   "nbconvert_exporter": "python",
   "pygments_lexer": "ipython3",
   "version": "3.10.8"
  }
 },
 "nbformat": 4,
 "nbformat_minor": 5
}
