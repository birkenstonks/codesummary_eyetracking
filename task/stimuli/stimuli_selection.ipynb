{
 "cells": [
  {
   "cell_type": "code",
   "execution_count": 23,
   "metadata": {},
   "outputs": [],
   "source": [
    "import numpy as np\n",
    "import pandas as pd\n",
    "import random"
   ]
  },
  {
   "cell_type": "code",
   "execution_count": 24,
   "metadata": {},
   "outputs": [],
   "source": [
    "allstims = pd.read_csv('seeds.csv')"
   ]
  },
  {
   "cell_type": "code",
   "execution_count": 25,
   "metadata": {},
   "outputs": [],
   "source": [
    "random.seed(888)\n",
    "sample = random.sample(range(0, 203), 60)"
   ]
  },
  {
   "cell_type": "code",
   "execution_count": 26,
   "metadata": {},
   "outputs": [],
   "source": [
    "stim_subset = allstims.iloc[sample,]"
   ]
  },
  {
   "cell_type": "code",
   "execution_count": 27,
   "metadata": {},
   "outputs": [],
   "source": [
    "pd.DataFrame.to_csv(stim_subset.iloc[0:30], \"writing_stimuli.csv\")\n",
    "pd.DataFrame.to_csv(stim_subset.iloc[30:60], \"reading_stimuli.csv\")"
   ]
  },
  {
   "cell_type": "code",
   "execution_count": 6,
   "metadata": {},
   "outputs": [],
   "source": [
    "import tobii_research as tr\n",
    "import time"
   ]
  },
  {
   "cell_type": "code",
   "execution_count": 11,
   "metadata": {},
   "outputs": [],
   "source": [
    "test = tr.find_all_eyetrackers()"
   ]
  },
  {
   "cell_type": "code",
   "execution_count": 6,
   "metadata": {},
   "outputs": [
    {
     "data": {
      "text/html": [
       "<div>\n",
       "<style scoped>\n",
       "    .dataframe tbody tr th:only-of-type {\n",
       "        vertical-align: middle;\n",
       "    }\n",
       "\n",
       "    .dataframe tbody tr th {\n",
       "        vertical-align: top;\n",
       "    }\n",
       "\n",
       "    .dataframe thead th {\n",
       "        text-align: right;\n",
       "    }\n",
       "</style>\n",
       "<table border=\"1\" class=\"dataframe\">\n",
       "  <thead>\n",
       "    <tr style=\"text-align: right;\">\n",
       "      <th></th>\n",
       "      <th>fid</th>\n",
       "      <th>name</th>\n",
       "      <th>ref</th>\n",
       "      <th>attendgru</th>\n",
       "      <th>function</th>\n",
       "    </tr>\n",
       "  </thead>\n",
       "  <tbody>\n",
       "    <tr>\n",
       "      <th>0</th>\n",
       "      <td>27798254</td>\n",
       "      <td>pluginRegistryContains</td>\n",
       "      <td>tests if plugin is in registry</td>\n",
       "      <td>checks if the plugin registry contains the giv...</td>\n",
       "      <td>\\r\\n public boolean pluginRegistryContains(Str...</td>\n",
       "    </tr>\n",
       "    <tr>\n",
       "      <th>1</th>\n",
       "      <td>27801498</td>\n",
       "      <td>setBinWidth</td>\n",
       "      <td>sets the bin width and repaints</td>\n",
       "      <td>sets the bin width of the bin</td>\n",
       "      <td>\\r\\n\\r\\n public void setBinWidth ( double new_...</td>\n",
       "    </tr>\n",
       "    <tr>\n",
       "      <th>2</th>\n",
       "      <td>27802185</td>\n",
       "      <td>createGraphModel</td>\n",
       "      <td>create a new pgraph model based on set of nodes</td>\n",
       "      <td>creates a new graph model</td>\n",
       "      <td>\\r\\n\\r\\n public GraphModel createGraphModel ( ...</td>\n",
       "    </tr>\n",
       "    <tr>\n",
       "      <th>3</th>\n",
       "      <td>22907997</td>\n",
       "      <td>removeRedundantOperations</td>\n",
       "      <td>optimize the list of files to remove by discar...</td>\n",
       "      <td>removes redundant operations from the list of ...</td>\n",
       "      <td>\\r\\n\\r\\n private void removeRedundantOperation...</td>\n",
       "    </tr>\n",
       "    <tr>\n",
       "      <th>4</th>\n",
       "      <td>44521080</td>\n",
       "      <td>BFSdist</td>\n",
       "      <td>traverses the graph breadth first and updates ...</td>\n",
       "      <td>&lt;UNK&gt; &lt;UNK&gt; &lt;UNK&gt;</td>\n",
       "      <td>\\r\\n\\r\\n public void BFSdist(Node n, Vector To...</td>\n",
       "    </tr>\n",
       "  </tbody>\n",
       "</table>\n",
       "</div>"
      ],
      "text/plain": [
       "        fid                       name  \\\n",
       "0  27798254     pluginRegistryContains   \n",
       "1  27801498                setBinWidth   \n",
       "2  27802185           createGraphModel   \n",
       "3  22907997  removeRedundantOperations   \n",
       "4  44521080                    BFSdist   \n",
       "\n",
       "                                                 ref  \\\n",
       "0                     tests if plugin is in registry   \n",
       "1                    sets the bin width and repaints   \n",
       "2    create a new pgraph model based on set of nodes   \n",
       "3  optimize the list of files to remove by discar...   \n",
       "4  traverses the graph breadth first and updates ...   \n",
       "\n",
       "                                           attendgru  \\\n",
       "0  checks if the plugin registry contains the giv...   \n",
       "1                      sets the bin width of the bin   \n",
       "2                          creates a new graph model   \n",
       "3  removes redundant operations from the list of ...   \n",
       "4                                  <UNK> <UNK> <UNK>   \n",
       "\n",
       "                                            function  \n",
       "0  \\r\\n public boolean pluginRegistryContains(Str...  \n",
       "1  \\r\\n\\r\\n public void setBinWidth ( double new_...  \n",
       "2  \\r\\n\\r\\n public GraphModel createGraphModel ( ...  \n",
       "3  \\r\\n\\r\\n private void removeRedundantOperation...  \n",
       "4  \\r\\n\\r\\n public void BFSdist(Node n, Vector To...  "
      ]
     },
     "execution_count": 6,
     "metadata": {},
     "output_type": "execute_result"
    }
   ],
   "source": [
    "allstims.head()"
   ]
  }
 ],
 "metadata": {
  "kernelspec": {
   "display_name": "Python 3.8.10 64-bit",
   "language": "python",
   "name": "python3"
  },
  "language_info": {
   "codemirror_mode": {
    "name": "ipython",
    "version": 3
   },
   "file_extension": ".py",
   "mimetype": "text/x-python",
   "name": "python",
   "nbconvert_exporter": "python",
   "pygments_lexer": "ipython3",
   "version": "3.8.10"
  },
  "orig_nbformat": 4,
  "vscode": {
   "interpreter": {
    "hash": "916dbcbb3f70747c44a77c7bcd40155683ae19c65e1c03b4aa3499c5328201f1"
   }
  }
 },
 "nbformat": 4,
 "nbformat_minor": 2
}
