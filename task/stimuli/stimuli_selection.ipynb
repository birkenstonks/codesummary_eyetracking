{
 "cells": [
  {
   "cell_type": "code",
   "execution_count": 2,
   "metadata": {},
   "outputs": [],
   "source": [
    "import numpy as np\n",
    "import pandas as pd\n",
    "import random"
   ]
  },
  {
   "cell_type": "code",
   "execution_count": 3,
   "metadata": {},
   "outputs": [],
   "source": [
    "#allstims = pd.read_csv('seeds.csv')\n",
    "allstims = pd.read_csv('pruned_seeds.csv')"
   ]
  },
  {
   "cell_type": "code",
   "execution_count": 4,
   "metadata": {},
   "outputs": [
    {
     "data": {
      "text/plain": [
       "Index(['fid', 'name', 'ref', 'attendgru', 'function'], dtype='object')"
      ]
     },
     "execution_count": 4,
     "metadata": {},
     "output_type": "execute_result"
    }
   ],
   "source": [
    "allstims.columns"
   ]
  },
  {
   "cell_type": "code",
   "execution_count": 8,
   "metadata": {},
   "outputs": [
    {
     "name": "stdout",
     "output_type": "stream",
     "text": [
      "sample [20, 110, 149, 113, 127, 98, 95, 138, 107, 44, 100, 96, 165, 69, 155, 159, 2, 148, 135, 160, 101, 61, 80, 67, 57, 28, 77, 72, 42, 117, 60, 51, 58, 10, 53, 124, 3, 19, 114, 111, 41, 65, 147, 40, 120, 34, 35, 93, 146, 94, 125, 129, 83, 106, 4, 141, 45, 50, 49, 63, 26, 27, 143, 102, 118, 39, 137, 122, 16, 8, 151, 14, 68, 158, 75, 30, 5, 1, 70, 31, 134, 66, 9, 144, 6, 13, 82, 103, 17, 21, 108, 79, 78, 36, 126, 87, 112, 43, 131, 92, 97, 156, 81, 11, 86, 52, 84, 37, 150, 90, 130, 47, 128, 104, 91, 157, 154, 133, 74, 145, 140, 15, 99, 139, 55, 142, 119, 62, 123, 105, 136, 22, 64, 115, 89, 33, 71, 152, 29, 85, 73, 38, 7, 56, 163, 153, 166, 48, 32, 116, 161, 25, 0, 109, 162, 23, 54, 46, 59, 164, 18, 132, 121, 88, 76, 12, 24]\n",
      "writing for all [20, 110, 149, 113, 127, 98, 95, 138, 107, 44, 100, 96, 165, 69, 155]\n",
      "reading for all [159, 2, 148, 135, 160, 101, 61, 80, 67, 57, 28, 77, 72, 42, 117, 60, 51, 58, 10, 53, 124, 3, 19, 114, 111, 41, 65]\n",
      "cut sample [147, 40, 120, 34, 35, 93, 146, 94, 125, 129, 83, 106, 4, 141, 45, 50, 49, 63, 26, 27, 143, 102, 118, 39, 137, 122, 16, 8, 151, 14, 68, 158, 75, 30, 5, 1, 70, 31, 134, 66, 9, 144, 6, 13, 82, 103, 17, 21, 108, 79, 78, 36, 126, 87, 112, 43, 131, 92, 97, 156, 81, 11, 86, 52, 84, 37, 150, 90, 130, 47, 128, 104, 91, 157, 154, 133, 74, 145, 140, 15, 99, 139, 55, 142, 119, 62, 123, 105, 136, 22, 64, 115, 89, 33, 71, 152, 29, 85, 73, 38, 7, 56, 163, 153, 166, 48, 32, 116, 161, 25, 0, 109, 162, 23, 54, 46, 59, 164, 18, 132, 121, 88, 76, 12, 24]\n",
      "reading for all 2 93\n",
      "writing for all 2 74\n"
     ]
    }
   ],
   "source": [
    "random.seed(888)\n",
    "sample = random.sample(range(0, 167), 167) # for testing purposes\n",
    "print(\"sample\", sample)\n",
    "#sample = range(0, 168)\n",
    "#consistent_for_all = sample[]\n",
    "writing_for_all = sample[0:15] # 15/25 (60%) stimuli that all participants will see\n",
    "print(\"writing for all\", writing_for_all)\n",
    "cut_sample = sample[15:]\n",
    "\n",
    "reading_for_all = cut_sample[0:27] # 27/45 (60%) stimuli that all participants will see\n",
    "print(\"reading for all\", reading_for_all)\n",
    "cut_sample = cut_sample[27:] # len of 131\n",
    "print(\"cut sample\", cut_sample)\n",
    "\n",
    "#reading_for_all2 = reading_for_all\n",
    "reading_for_all2 = reading_for_all + cut_sample[0:66]\n",
    "print(\"reading for all 2\", len(reading_for_all2))\n",
    "\n",
    "writing_for_all2 = writing_for_all + cut_sample[66:]\n",
    "print(\"writing for all 2\", len(writing_for_all2))\n"
   ]
  },
  {
   "cell_type": "code",
   "execution_count": 10,
   "metadata": {},
   "outputs": [],
   "source": [
    "reading_stim_subset = allstims.iloc[reading_for_all2]\n",
    "\n",
    "writing_stim_subset = allstims.iloc[writing_for_all2]"
   ]
  },
  {
   "cell_type": "code",
   "execution_count": 17,
   "metadata": {},
   "outputs": [],
   "source": [
    "stim_subset = allstims.iloc[sample,]"
   ]
  },
  {
   "cell_type": "code",
   "execution_count": 12,
   "metadata": {},
   "outputs": [
    {
     "data": {
      "text/plain": [
       "Index(['fid', 'name', 'ref', 'attendgru', 'function'], dtype='object')"
      ]
     },
     "execution_count": 12,
     "metadata": {},
     "output_type": "execute_result"
    }
   ],
   "source": [
    "reading_stim_subset.columns"
   ]
  },
  {
   "cell_type": "code",
   "execution_count": 13,
   "metadata": {},
   "outputs": [],
   "source": [
    "pd.DataFrame.to_csv(writing_stim_subset, \"writing_stimuli.csv\")\n",
    "#pd.DataFrame.to_csv(stim_subset, \"writing_stimuli.csv\") # for testing purposes\n",
    "pd.DataFrame.to_csv(reading_stim_subset, \"reading_stimuli.csv\")"
   ]
  },
  {
   "cell_type": "code",
   "execution_count": 16,
   "metadata": {},
   "outputs": [
    {
     "name": "stdout",
     "output_type": "stream",
     "text": [
      "[62, 27, 20, 36, 85, 68, 46, 60, 19, 51]\n"
     ]
    }
   ],
   "source": [
    "test = random.sample(range(16, 100), 10)  # for testing purposes\n",
    "print(test)\n"
   ]
  },
  {
   "cell_type": "code",
   "execution_count": null,
   "metadata": {},
   "outputs": [],
   "source": []
  }
 ],
 "metadata": {
  "kernelspec": {
   "display_name": "Python 3.8.10 64-bit",
   "language": "python",
   "name": "python3"
  },
  "language_info": {
   "codemirror_mode": {
    "name": "ipython",
    "version": 3
   },
   "file_extension": ".py",
   "mimetype": "text/x-python",
   "name": "python",
   "nbconvert_exporter": "python",
   "pygments_lexer": "ipython3",
   "version": "3.8.10"
  },
  "orig_nbformat": 4,
  "vscode": {
   "interpreter": {
    "hash": "e7370f93d1d0cde622a1f8e1c04877d8463912d04d973331ad4851f04de6915a"
   }
  }
 },
 "nbformat": 4,
 "nbformat_minor": 2
}
