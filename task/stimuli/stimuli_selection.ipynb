{
 "cells": [
  {
   "cell_type": "code",
   "execution_count": 2,
   "metadata": {},
   "outputs": [],
   "source": [
    "import numpy as np\n",
    "import pandas as pd\n",
    "import random"
   ]
  },
  {
   "cell_type": "code",
   "execution_count": 22,
   "metadata": {},
   "outputs": [],
   "source": [
    "#allstims = pd.read_csv('seeds.csv')\n",
    "#allstims = pd.read_csv('pruned_seeds.csv')\n",
    "allstims = pd.read_csv('pruned_seeds2.csv')"
   ]
  },
  {
   "cell_type": "code",
   "execution_count": 23,
   "metadata": {},
   "outputs": [
    {
     "name": "stdout",
     "output_type": "stream",
     "text": [
      "Index(['fid', 'name', 'ref', 'callcon', 'function'], dtype='object')\n",
      "(162, 5)\n"
     ]
    }
   ],
   "source": [
    "print(allstims.columns)\n",
    "print(allstims.shape)"
   ]
  },
  {
   "cell_type": "code",
   "execution_count": 24,
   "metadata": {},
   "outputs": [
    {
     "name": "stdout",
     "output_type": "stream",
     "text": [
      "sample [20, 110, 149, 113, 127, 98, 95, 138, 107, 44, 100, 96, 160, 69, 150, 154, 2, 135, 155, 101, 61, 80, 67, 57, 28, 77, 72, 42, 117, 60, 51, 58, 10, 53, 124, 1, 9, 94, 146, 106, 55, 41, 65, 143, 40, 34, 35, 93, 142, 157, 119, 19, 83, 122, 4, 137, 45, 50, 49, 63, 26, 27, 139, 39, 112, 115, 16, 8, 134, 14, 68, 102, 75, 30, 5, 126, 70, 31, 130, 66, 125, 140, 6, 13, 79, 156, 17, 21, 103, 76, 89, 36, 120, 84, 153, 43, 92, 144, 97, 123, 131, 59, 148, 141, 56, 7, 136, 87, 52, 81, 37, 145, 54, 3, 47, 121, 64, 88, 129, 71, 152, 74, 15, 147, 132, 73, 11, 104, 38, 151, 128, 108, 22, 25, 24, 33, 46, 133, 32, 91, 0, 29, 159, 90, 161, 158, 62, 86, 99, 116, 118, 82, 18, 23, 105, 78, 12, 114, 109, 48, 111, 85]\n",
      "writing for all [20, 110, 149, 113, 127, 98, 95, 138, 107, 44, 100, 96, 160, 69, 150]\n",
      "reading for all [154, 2, 135, 155, 101, 61, 80, 67, 57, 28, 77, 72, 42, 117, 60, 51, 58, 10, 53, 124, 1, 9, 94, 146, 106, 55, 41]\n",
      "cut sample [65, 143, 40, 34, 35, 93, 142, 157, 119, 19, 83, 122, 4, 137, 45, 50, 49, 63, 26, 27, 139, 39, 112, 115, 16, 8, 134, 14, 68, 102, 75, 30, 5, 126, 70, 31, 130, 66, 125, 140, 6, 13, 79, 156, 17, 21, 103, 76, 89, 36, 120, 84, 153, 43, 92, 144, 97, 123, 131, 59, 148, 141, 56, 7, 136, 87, 52, 81, 37, 145, 54, 3, 47, 121, 64, 88, 129, 71, 152, 74, 15, 147, 132, 73, 11, 104, 38, 151, 128, 108, 22, 25, 24, 33, 46, 133, 32, 91, 0, 29, 159, 90, 161, 158, 62, 86, 99, 116, 118, 82, 18, 23, 105, 78, 12, 114, 109, 48, 111, 85]\n",
      "reading for all 2 93\n",
      "writing for all 2 69\n"
     ]
    }
   ],
   "source": [
    "random.seed(888)\n",
    "sample = random.sample(range(0, 162), 162) # All stimuli (for testing purposes)\n",
    "print(\"sample\", sample)\n",
    "\n",
    "# writing stimuli all participants will see\n",
    "writing_for_all = sample[0:15] # 15/25 (60%) stimuli that all participants will see\n",
    "print(\"writing for all\", writing_for_all)\n",
    "cut_sample = sample[15:]\n",
    "\n",
    "# reading stimuli all participants will see\n",
    "reading_for_all = cut_sample[0:27] # 27/45 (60%) stimuli that all participants will see\n",
    "print(\"reading for all\", reading_for_all)\n",
    "cut_sample = cut_sample[27:] # len of 131\n",
    "print(\"cut sample\", cut_sample)\n",
    "\n",
    "#reading_for_all2 = reading_for_all\n",
    "# lumping on another chunk of stimuli\n",
    "reading_for_all2 = reading_for_all + cut_sample[0:66]\n",
    "print(\"reading for all 2\", len(reading_for_all2))\n",
    "\n",
    "writing_for_all2 = writing_for_all + cut_sample[66:]\n",
    "print(\"writing for all 2\", len(writing_for_all2))\n"
   ]
  },
  {
   "cell_type": "code",
   "execution_count": 25,
   "metadata": {},
   "outputs": [],
   "source": [
    "reading_stim_subset = allstims.iloc[reading_for_all2]\n",
    "writing_stim_subset = allstims.iloc[writing_for_all2]"
   ]
  },
  {
   "cell_type": "code",
   "execution_count": 17,
   "metadata": {},
   "outputs": [],
   "source": [
    "stim_subset = allstims.iloc[sample,]"
   ]
  },
  {
   "cell_type": "code",
   "execution_count": 21,
   "metadata": {},
   "outputs": [
    {
     "data": {
      "text/plain": [
       "Index(['Unnamed: 0', 'fid', 'name', 'ref', 'callcon', 'function'], dtype='object')"
      ]
     },
     "execution_count": 21,
     "metadata": {},
     "output_type": "execute_result"
    }
   ],
   "source": [
    "reading_stim_subset.columns"
   ]
  },
  {
   "cell_type": "code",
   "execution_count": 26,
   "metadata": {},
   "outputs": [],
   "source": [
    "pd.DataFrame.to_csv(writing_stim_subset, \"writing_stimuli.csv\")\n",
    "#pd.DataFrame.to_csv(stim_subset, \"writing_stimuli.csv\") # for testing purposes\n",
    "pd.DataFrame.to_csv(reading_stim_subset, \"reading_stimuli.csv\")"
   ]
  },
  {
   "cell_type": "code",
   "execution_count": 6,
   "metadata": {},
   "outputs": [],
   "source": [
    "import random\n",
    "import pandas as pd\n",
    "human_or_ai_summary = random.Random(888).choices([3, 4], k=100)\n",
    "df = pd.DataFrame(human_or_ai_summary)\n",
    "pd.DataFrame.to_csv(df, 'human_or_ai_summary.csv', index=False, header=['which_col'])\n"
   ]
  },
  {
   "cell_type": "code",
   "execution_count": null,
   "metadata": {},
   "outputs": [],
   "source": []
  }
 ],
 "metadata": {
  "kernelspec": {
   "display_name": "Python 3.8.10 64-bit",
   "language": "python",
   "name": "python3"
  },
  "language_info": {
   "codemirror_mode": {
    "name": "ipython",
    "version": 3
   },
   "file_extension": ".py",
   "mimetype": "text/x-python",
   "name": "python",
   "nbconvert_exporter": "python",
   "pygments_lexer": "ipython3",
   "version": "3.8.10"
  },
  "orig_nbformat": 4,
  "vscode": {
   "interpreter": {
    "hash": "e7370f93d1d0cde622a1f8e1c04877d8463912d04d973331ad4851f04de6915a"
   }
  }
 },
 "nbformat": 4,
 "nbformat_minor": 2
}
